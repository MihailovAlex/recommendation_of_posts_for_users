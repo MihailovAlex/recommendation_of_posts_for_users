{
 "cells": [
  {
   "cell_type": "markdown",
   "id": "5ad04f36",
   "metadata": {},
   "source": [
    "Есть собранная за неделю информация по просмотрам и лайкам пользователей."
   ]
  },
  {
   "cell_type": "code",
   "execution_count": 1,
   "id": "d7a79a7e",
   "metadata": {},
   "outputs": [],
   "source": [
    "import numpy as np\n",
    "import pandas as pd\n",
    "\n",
    "views = pd.read_csv('views.csv')\n",
    "likes = pd.read_csv('likes.csv')"
   ]
  },
  {
   "cell_type": "code",
   "execution_count": 2,
   "id": "979a8a43",
   "metadata": {},
   "outputs": [
    {
     "data": {
      "text/html": [
       "<div>\n",
       "<style scoped>\n",
       "    .dataframe tbody tr th:only-of-type {\n",
       "        vertical-align: middle;\n",
       "    }\n",
       "\n",
       "    .dataframe tbody tr th {\n",
       "        vertical-align: top;\n",
       "    }\n",
       "\n",
       "    .dataframe thead th {\n",
       "        text-align: right;\n",
       "    }\n",
       "</style>\n",
       "<table border=\"1\" class=\"dataframe\">\n",
       "  <thead>\n",
       "    <tr style=\"text-align: right;\">\n",
       "      <th></th>\n",
       "      <th>user_id</th>\n",
       "      <th>post_id</th>\n",
       "      <th>timestamp</th>\n",
       "    </tr>\n",
       "  </thead>\n",
       "  <tbody>\n",
       "    <tr>\n",
       "      <th>0</th>\n",
       "      <td>128381</td>\n",
       "      <td>4704</td>\n",
       "      <td>1654030804</td>\n",
       "    </tr>\n",
       "    <tr>\n",
       "      <th>1</th>\n",
       "      <td>146885</td>\n",
       "      <td>1399</td>\n",
       "      <td>1654030816</td>\n",
       "    </tr>\n",
       "    <tr>\n",
       "      <th>2</th>\n",
       "      <td>50948</td>\n",
       "      <td>2315</td>\n",
       "      <td>1654030828</td>\n",
       "    </tr>\n",
       "    <tr>\n",
       "      <th>3</th>\n",
       "      <td>14661</td>\n",
       "      <td>673</td>\n",
       "      <td>1654030831</td>\n",
       "    </tr>\n",
       "    <tr>\n",
       "      <th>4</th>\n",
       "      <td>37703</td>\n",
       "      <td>1588</td>\n",
       "      <td>1654030833</td>\n",
       "    </tr>\n",
       "  </tbody>\n",
       "</table>\n",
       "</div>"
      ],
      "text/plain": [
       "   user_id  post_id   timestamp\n",
       "0   128381     4704  1654030804\n",
       "1   146885     1399  1654030816\n",
       "2    50948     2315  1654030828\n",
       "3    14661      673  1654030831\n",
       "4    37703     1588  1654030833"
      ]
     },
     "execution_count": 2,
     "metadata": {},
     "output_type": "execute_result"
    }
   ],
   "source": [
    "likes.head()"
   ]
  },
  {
   "cell_type": "code",
   "execution_count": 3,
   "id": "463a8ee1",
   "metadata": {},
   "outputs": [
    {
     "data": {
      "text/html": [
       "<div>\n",
       "<style scoped>\n",
       "    .dataframe tbody tr th:only-of-type {\n",
       "        vertical-align: middle;\n",
       "    }\n",
       "\n",
       "    .dataframe tbody tr th {\n",
       "        vertical-align: top;\n",
       "    }\n",
       "\n",
       "    .dataframe thead th {\n",
       "        text-align: right;\n",
       "    }\n",
       "</style>\n",
       "<table border=\"1\" class=\"dataframe\">\n",
       "  <thead>\n",
       "    <tr style=\"text-align: right;\">\n",
       "      <th></th>\n",
       "      <th>user_id</th>\n",
       "      <th>exp_group</th>\n",
       "      <th>recommendations</th>\n",
       "      <th>timestamp</th>\n",
       "    </tr>\n",
       "  </thead>\n",
       "  <tbody>\n",
       "    <tr>\n",
       "      <th>0</th>\n",
       "      <td>128381</td>\n",
       "      <td>control</td>\n",
       "      <td>[3644 4529 4704 5294 4808]</td>\n",
       "      <td>1654030803</td>\n",
       "    </tr>\n",
       "    <tr>\n",
       "      <th>1</th>\n",
       "      <td>146885</td>\n",
       "      <td>test</td>\n",
       "      <td>[1399 1076  797 7015 5942]</td>\n",
       "      <td>1654030811</td>\n",
       "    </tr>\n",
       "    <tr>\n",
       "      <th>2</th>\n",
       "      <td>50948</td>\n",
       "      <td>test</td>\n",
       "      <td>[2315 3037 1861 6567 4093]</td>\n",
       "      <td>1654030825</td>\n",
       "    </tr>\n",
       "    <tr>\n",
       "      <th>3</th>\n",
       "      <td>37703</td>\n",
       "      <td>test</td>\n",
       "      <td>[2842 1949  162 1588 6794]</td>\n",
       "      <td>1654030826</td>\n",
       "    </tr>\n",
       "    <tr>\n",
       "      <th>4</th>\n",
       "      <td>14661</td>\n",
       "      <td>test</td>\n",
       "      <td>[2395 5881 5648 3417  673]</td>\n",
       "      <td>1654030829</td>\n",
       "    </tr>\n",
       "  </tbody>\n",
       "</table>\n",
       "</div>"
      ],
      "text/plain": [
       "   user_id exp_group             recommendations   timestamp\n",
       "0   128381   control  [3644 4529 4704 5294 4808]  1654030803\n",
       "1   146885      test  [1399 1076  797 7015 5942]  1654030811\n",
       "2    50948      test  [2315 3037 1861 6567 4093]  1654030825\n",
       "3    37703      test  [2842 1949  162 1588 6794]  1654030826\n",
       "4    14661      test  [2395 5881 5648 3417  673]  1654030829"
      ]
     },
     "execution_count": 3,
     "metadata": {},
     "output_type": "execute_result"
    }
   ],
   "source": [
    "views.head()"
   ]
  },
  {
   "cell_type": "markdown",
   "id": "7cb5ae09",
   "metadata": {
    "cellId": "u9jztvaoewg3ptd3r2knv",
    "execution_id": "fc5cc802-099d-4412-8954-b17e4546f40f"
   },
   "source": [
    "Проверим разбиение групп\n",
    "\n",
    "Проверка на однозначное соответствие."
   ]
  },
  {
   "cell_type": "code",
   "execution_count": 4,
   "id": "6ac0e631",
   "metadata": {},
   "outputs": [
    {
     "data": {
      "text/html": [
       "<div>\n",
       "<style scoped>\n",
       "    .dataframe tbody tr th:only-of-type {\n",
       "        vertical-align: middle;\n",
       "    }\n",
       "\n",
       "    .dataframe tbody tr th {\n",
       "        vertical-align: top;\n",
       "    }\n",
       "\n",
       "    .dataframe thead th {\n",
       "        text-align: right;\n",
       "    }\n",
       "</style>\n",
       "<table border=\"1\" class=\"dataframe\">\n",
       "  <thead>\n",
       "    <tr style=\"text-align: right;\">\n",
       "      <th></th>\n",
       "      <th>user_id</th>\n",
       "      <th>exp_group</th>\n",
       "    </tr>\n",
       "  </thead>\n",
       "  <tbody>\n",
       "    <tr>\n",
       "      <th>10071</th>\n",
       "      <td>25623</td>\n",
       "      <td>2</td>\n",
       "    </tr>\n",
       "    <tr>\n",
       "      <th>20633</th>\n",
       "      <td>55788</td>\n",
       "      <td>2</td>\n",
       "    </tr>\n",
       "    <tr>\n",
       "      <th>54475</th>\n",
       "      <td>142283</td>\n",
       "      <td>2</td>\n",
       "    </tr>\n",
       "    <tr>\n",
       "      <th>57065</th>\n",
       "      <td>148670</td>\n",
       "      <td>2</td>\n",
       "    </tr>\n",
       "  </tbody>\n",
       "</table>\n",
       "</div>"
      ],
      "text/plain": [
       "       user_id  exp_group\n",
       "10071    25623          2\n",
       "20633    55788          2\n",
       "54475   142283          2\n",
       "57065   148670          2"
      ]
     },
     "execution_count": 4,
     "metadata": {},
     "output_type": "execute_result"
    }
   ],
   "source": [
    "tmp = views.groupby('user_id').exp_group.nunique().reset_index()\n",
    "tmp[tmp.exp_group > 1]"
   ]
  },
  {
   "cell_type": "markdown",
   "id": "3e12c89a",
   "metadata": {},
   "source": [
    "Повторяются 4 пользователя, удалим их"
   ]
  },
  {
   "cell_type": "code",
   "execution_count": 5,
   "id": "5ae9371a",
   "metadata": {},
   "outputs": [],
   "source": [
    "bad_users = tmp[tmp.exp_group > 1].user_id.values\n",
    "\n",
    "views = views[~np.in1d(views.user_id, bad_users)]\n",
    "likes = likes[~np.in1d(likes.user_id, bad_users)]"
   ]
  },
  {
   "cell_type": "markdown",
   "id": "d0049c0c",
   "metadata": {},
   "source": [
    "Проверим, что группы разбились нормально"
   ]
  },
  {
   "cell_type": "code",
   "execution_count": 6,
   "id": "e5079c8f",
   "metadata": {},
   "outputs": [
    {
     "data": {
      "text/plain": [
       "test       32659\n",
       "control    32350\n",
       "Name: exp_group, dtype: int64"
      ]
     },
     "execution_count": 6,
     "metadata": {},
     "output_type": "execute_result"
    }
   ],
   "source": [
    "views.groupby('user_id').first().exp_group.value_counts()"
   ]
  },
  {
   "cell_type": "markdown",
   "id": "dfda1c3e",
   "metadata": {
    "cellId": "iww9sdx5prin5d5xidtkg",
    "execution_id": "c648412e-a656-450d-b831-d8f460b3d56b"
   },
   "source": [
    "Проверим, улучшились ли  метрики в тестовой группе.\n",
    "\n",
    "Посчитаем долю пользователей, которая сделала хотя бы один лайк за время эксперимента без разбивки на группы."
   ]
  },
  {
   "cell_type": "markdown",
   "id": "62c8dc67",
   "metadata": {},
   "source": [
    "Соберём разбиение на группы"
   ]
  },
  {
   "cell_type": "code",
   "execution_count": 7,
   "id": "be544523",
   "metadata": {},
   "outputs": [
    {
     "data": {
      "text/html": [
       "<div>\n",
       "<style scoped>\n",
       "    .dataframe tbody tr th:only-of-type {\n",
       "        vertical-align: middle;\n",
       "    }\n",
       "\n",
       "    .dataframe tbody tr th {\n",
       "        vertical-align: top;\n",
       "    }\n",
       "\n",
       "    .dataframe thead th {\n",
       "        text-align: right;\n",
       "    }\n",
       "</style>\n",
       "<table border=\"1\" class=\"dataframe\">\n",
       "  <thead>\n",
       "    <tr style=\"text-align: right;\">\n",
       "      <th></th>\n",
       "      <th>user_id</th>\n",
       "      <th>exp_group</th>\n",
       "    </tr>\n",
       "  </thead>\n",
       "  <tbody>\n",
       "    <tr>\n",
       "      <th>0</th>\n",
       "      <td>200</td>\n",
       "      <td>test</td>\n",
       "    </tr>\n",
       "    <tr>\n",
       "      <th>1</th>\n",
       "      <td>201</td>\n",
       "      <td>test</td>\n",
       "    </tr>\n",
       "    <tr>\n",
       "      <th>2</th>\n",
       "      <td>202</td>\n",
       "      <td>test</td>\n",
       "    </tr>\n",
       "    <tr>\n",
       "      <th>3</th>\n",
       "      <td>212</td>\n",
       "      <td>test</td>\n",
       "    </tr>\n",
       "    <tr>\n",
       "      <th>4</th>\n",
       "      <td>213</td>\n",
       "      <td>test</td>\n",
       "    </tr>\n",
       "  </tbody>\n",
       "</table>\n",
       "</div>"
      ],
      "text/plain": [
       "   user_id exp_group\n",
       "0      200      test\n",
       "1      201      test\n",
       "2      202      test\n",
       "3      212      test\n",
       "4      213      test"
      ]
     },
     "execution_count": 7,
     "metadata": {},
     "output_type": "execute_result"
    }
   ],
   "source": [
    "groups = views.groupby('user_id').first().reset_index()[['user_id', 'exp_group']]\n",
    "groups.head()"
   ]
  },
  {
   "cell_type": "markdown",
   "id": "35647e31",
   "metadata": {},
   "source": [
    "Посчитаем число лайков на пользователя"
   ]
  },
  {
   "cell_type": "code",
   "execution_count": 8,
   "id": "ba2bac23",
   "metadata": {},
   "outputs": [
    {
     "data": {
      "text/html": [
       "<div>\n",
       "<style scoped>\n",
       "    .dataframe tbody tr th:only-of-type {\n",
       "        vertical-align: middle;\n",
       "    }\n",
       "\n",
       "    .dataframe tbody tr th {\n",
       "        vertical-align: top;\n",
       "    }\n",
       "\n",
       "    .dataframe thead th {\n",
       "        text-align: right;\n",
       "    }\n",
       "</style>\n",
       "<table border=\"1\" class=\"dataframe\">\n",
       "  <thead>\n",
       "    <tr style=\"text-align: right;\">\n",
       "      <th></th>\n",
       "      <th>user_id</th>\n",
       "      <th>like_num</th>\n",
       "    </tr>\n",
       "  </thead>\n",
       "  <tbody>\n",
       "    <tr>\n",
       "      <th>0</th>\n",
       "      <td>200</td>\n",
       "      <td>1</td>\n",
       "    </tr>\n",
       "    <tr>\n",
       "      <th>1</th>\n",
       "      <td>201</td>\n",
       "      <td>3</td>\n",
       "    </tr>\n",
       "    <tr>\n",
       "      <th>2</th>\n",
       "      <td>202</td>\n",
       "      <td>2</td>\n",
       "    </tr>\n",
       "    <tr>\n",
       "      <th>3</th>\n",
       "      <td>212</td>\n",
       "      <td>4</td>\n",
       "    </tr>\n",
       "    <tr>\n",
       "      <th>4</th>\n",
       "      <td>213</td>\n",
       "      <td>7</td>\n",
       "    </tr>\n",
       "  </tbody>\n",
       "</table>\n",
       "</div>"
      ],
      "text/plain": [
       "   user_id  like_num\n",
       "0      200         1\n",
       "1      201         3\n",
       "2      202         2\n",
       "3      212         4\n",
       "4      213         7"
      ]
     },
     "execution_count": 8,
     "metadata": {},
     "output_type": "execute_result"
    }
   ],
   "source": [
    "users_w_likes = (\n",
    "    likes\n",
    "    .groupby('user_id')\n",
    "    .post_id.count()\n",
    "    .reset_index()\n",
    "    .rename(columns={'post_id': 'like_num'})\n",
    ")\n",
    "users_w_likes.head()"
   ]
  },
  {
   "cell_type": "code",
   "execution_count": 9,
   "id": "baf3004b",
   "metadata": {},
   "outputs": [],
   "source": [
    "tmp = pd.merge(groups, users_w_likes, on='user_id', how='left')\n",
    "tmp.like_num = tmp.like_num.fillna(0)\n",
    "tmp['has_like'] = (tmp['like_num'] > 0).astype(int)"
   ]
  },
  {
   "cell_type": "code",
   "execution_count": 10,
   "id": "e8447673",
   "metadata": {},
   "outputs": [
    {
     "data": {
      "text/html": [
       "<div>\n",
       "<style scoped>\n",
       "    .dataframe tbody tr th:only-of-type {\n",
       "        vertical-align: middle;\n",
       "    }\n",
       "\n",
       "    .dataframe tbody tr th {\n",
       "        vertical-align: top;\n",
       "    }\n",
       "\n",
       "    .dataframe thead th {\n",
       "        text-align: right;\n",
       "    }\n",
       "</style>\n",
       "<table border=\"1\" class=\"dataframe\">\n",
       "  <thead>\n",
       "    <tr style=\"text-align: right;\">\n",
       "      <th></th>\n",
       "      <th>has_like</th>\n",
       "      <th>like_num</th>\n",
       "    </tr>\n",
       "    <tr>\n",
       "      <th>exp_group</th>\n",
       "      <th></th>\n",
       "      <th></th>\n",
       "    </tr>\n",
       "  </thead>\n",
       "  <tbody>\n",
       "    <tr>\n",
       "      <th>control</th>\n",
       "      <td>0.891314</td>\n",
       "      <td>3.487079</td>\n",
       "    </tr>\n",
       "    <tr>\n",
       "      <th>test</th>\n",
       "      <td>0.898160</td>\n",
       "      <td>3.592578</td>\n",
       "    </tr>\n",
       "  </tbody>\n",
       "</table>\n",
       "</div>"
      ],
      "text/plain": [
       "           has_like  like_num\n",
       "exp_group                    \n",
       "control    0.891314  3.487079\n",
       "test       0.898160  3.592578"
      ]
     },
     "execution_count": 10,
     "metadata": {},
     "output_type": "execute_result"
    }
   ],
   "source": [
    "tmp.groupby('exp_group')[['has_like', 'like_num']].mean()"
   ]
  },
  {
   "cell_type": "code",
   "execution_count": 11,
   "id": "f224647f",
   "metadata": {},
   "outputs": [
    {
     "data": {
      "image/png": "[encoded data removed]",
      "text/plain": [
       "<Figure size 640x480 with 1 Axes>"
      ]
     },
     "metadata": {},
     "output_type": "display_data"
    }
   ],
   "source": [
    "import matplotlib.pyplot as plt\n",
    "\n",
    "clicks_per_user = users_w_likes.like_num\n",
    "\n",
    "plt.hist(clicks_per_user, bins=10, color='skyblue', edgecolor='black')\n",
    "\n",
    "plt.xlabel('Число кликов на пользователя')\n",
    "plt.ylabel('Частота')\n",
    "plt.title('Распределение числа кликов на пользователя')\n",
    "\n",
    "plt.show()"
   ]
  },
  {
   "cell_type": "markdown",
   "id": "f9fb4ae2",
   "metadata": {
    "cellId": "1hzv1pp789p89rn8706zd6",
    "execution_id": "f951c356-c63f-42ec-bace-5d27f25731b9"
   },
   "source": [
    "Число кликов на пользователя распределено логнормально. Воспользуемся непараметрическим критерием Манна-Уитни-Уилкоксона."
   ]
  },
  {
   "cell_type": "code",
   "execution_count": 12,
   "id": "0311386c",
   "metadata": {},
   "outputs": [
    {
     "data": {
      "text/plain": [
       "MannwhitneyuResult(statistic=518358073.0, pvalue=2.9585062792441964e-05)"
      ]
     },
     "execution_count": 12,
     "metadata": {},
     "output_type": "execute_result"
    }
   ],
   "source": [
    "from scipy.stats import mannwhitneyu\n",
    "\n",
    "mannwhitneyu(\n",
    "    tmp[tmp.exp_group == 'control'].like_num,\n",
    "    tmp[tmp.exp_group == 'test'].like_num,\n",
    ")"
   ]
  },
  {
   "cell_type": "markdown",
   "id": "6221cf47",
   "metadata": {},
   "source": [
    "Получили значимые изменения.\n",
    "Посчитаем hitrate (или долю рекомендаций, в которые пользователи кликнули)"
   ]
  },
  {
   "cell_type": "code",
   "execution_count": 13,
   "id": "328d9304",
   "metadata": {},
   "outputs": [],
   "source": [
    "tmp = pd.merge(views, likes, on='user_id', how='outer')\n",
    "tmp.post_id = tmp.post_id.fillna(-1).astype(int)"
   ]
  },
  {
   "cell_type": "markdown",
   "id": "2e3c92c8",
   "metadata": {},
   "source": [
    "Распарсим показы"
   ]
  },
  {
   "cell_type": "code",
   "execution_count": 14,
   "id": "eabca043",
   "metadata": {},
   "outputs": [],
   "source": [
    "tmp['recommendations'] = tmp.recommendations.apply(\n",
    "    lambda x: list(map(int, filter(bool, x[1:-1].split(' '))))\n",
    ")"
   ]
  },
  {
   "cell_type": "markdown",
   "id": "41558c8e",
   "metadata": {},
   "source": [
    "Пробежимся по всем показам и сравним с лайками. Пометим то, что является слишком старым или из будущего, лайки по непоказанным рекомендациям"
   ]
  },
  {
   "cell_type": "code",
   "execution_count": 15,
   "id": "24da42cc",
   "metadata": {},
   "outputs": [],
   "source": [
    "tmp.post_id = tmp.apply(\n",
    "    lambda row:\n",
    "    -1\n",
    "    if\n",
    "        (row.post_id == -1) | \n",
    "        ((row.timestamp_x > row.timestamp_y) |\n",
    "         (row.timestamp_x + 60 * 60 < row.timestamp_y)) |\n",
    "        (row.post_id not in row.recommendations)\n",
    "    else\n",
    "    row.post_id, axis=1)"
   ]
  },
  {
   "cell_type": "markdown",
   "id": "ef0e3421",
   "metadata": {},
   "source": [
    "Сравним размерности (предполагаем, что таймстемпы показов у пользователей были уникальны)"
   ]
  },
  {
   "cell_type": "code",
   "execution_count": 16,
   "id": "985840c3",
   "metadata": {},
   "outputs": [
    {
     "data": {
      "text/plain": [
       "(193268, 1016889)"
      ]
     },
     "execution_count": 16,
     "metadata": {},
     "output_type": "execute_result"
    }
   ],
   "source": [
    "len(views), len(tmp)"
   ]
  },
  {
   "cell_type": "code",
   "execution_count": 17,
   "id": "a766dc99",
   "metadata": {},
   "outputs": [
    {
     "data": {
      "text/plain": [
       "(193268, 2)"
      ]
     },
     "execution_count": 17,
     "metadata": {},
     "output_type": "execute_result"
    }
   ],
   "source": [
    "views.groupby(['user_id', 'timestamp']).first().shape"
   ]
  },
  {
   "cell_type": "markdown",
   "id": "80412ca8",
   "metadata": {},
   "source": [
    "Уникализируем показанные посты"
   ]
  },
  {
   "cell_type": "code",
   "execution_count": 18,
   "id": "7e5596d8",
   "metadata": {},
   "outputs": [],
   "source": [
    "def my_agg(values):\n",
    "    values = set(values)\n",
    "    if -1 in values and len(values) >= 2:\n",
    "        return 1\n",
    "    elif -1 not in values:\n",
    "        return 1\n",
    "    return 0\n",
    "\n",
    "tmp_agg = tmp.groupby(['user_id', 'exp_group', 'timestamp_x']).post_id.agg(my_agg)"
   ]
  },
  {
   "cell_type": "markdown",
   "id": "805d2e4f",
   "metadata": {
    "cellId": "o7e3rjyqyk86eky8rbif4",
    "execution_id": "8d5f9067-2868-4d46-abde-08dfe69b3492"
   },
   "source": [
    "Оценим различие между группами и значимость. \n",
    "z-критерий для долей не подходит, так как у нас в каждой выборке один и тот же пользователь может встречаться несколько раз. Применим бакетный подход (то есть перейдём к бакетам и по ним оценим значимость), чтобы поститать групповой hitrate (или CTR) — доля hitrate по группе/бакету. Используем 100 бакетов. Уровень значимости на уровне 0.05."
   ]
  },
  {
   "cell_type": "code",
   "execution_count": 19,
   "id": "ffcc511d",
   "metadata": {},
   "outputs": [],
   "source": [
    "tmp_agg = tmp_agg.reset_index().rename(columns={'post_id': 'hitrate'})"
   ]
  },
  {
   "cell_type": "markdown",
   "id": "ad8b4831",
   "metadata": {},
   "source": [
    "Подготовим бакеты"
   ]
  },
  {
   "cell_type": "code",
   "execution_count": 20,
   "id": "47456dee",
   "metadata": {},
   "outputs": [],
   "source": [
    "import hashlib\n",
    "\n",
    "tmp_agg['bucket'] = tmp_agg['user_id'].apply(\n",
    "    lambda x: int(hashlib.md5((str(x) + 'mih').encode()).hexdigest(), 16) % 100\n",
    ")"
   ]
  },
  {
   "cell_type": "code",
   "execution_count": 21,
   "id": "a591cb6a",
   "metadata": {},
   "outputs": [
    {
     "data": {
      "text/html": [
       "<div>\n",
       "<style scoped>\n",
       "    .dataframe tbody tr th:only-of-type {\n",
       "        vertical-align: middle;\n",
       "    }\n",
       "\n",
       "    .dataframe tbody tr th {\n",
       "        vertical-align: top;\n",
       "    }\n",
       "\n",
       "    .dataframe thead th {\n",
       "        text-align: right;\n",
       "    }\n",
       "</style>\n",
       "<table border=\"1\" class=\"dataframe\">\n",
       "  <thead>\n",
       "    <tr style=\"text-align: right;\">\n",
       "      <th></th>\n",
       "      <th>exp_group</th>\n",
       "      <th>bucket</th>\n",
       "      <th>user_id</th>\n",
       "      <th>timestamp_x</th>\n",
       "      <th>hitrate</th>\n",
       "      <th>view</th>\n",
       "      <th>hitrate_new</th>\n",
       "    </tr>\n",
       "  </thead>\n",
       "  <tbody>\n",
       "    <tr>\n",
       "      <th>0</th>\n",
       "      <td>control</td>\n",
       "      <td>0</td>\n",
       "      <td>83933399</td>\n",
       "      <td>1709217782899</td>\n",
       "      <td>725</td>\n",
       "      <td>1033</td>\n",
       "      <td>0.701839</td>\n",
       "    </tr>\n",
       "    <tr>\n",
       "      <th>1</th>\n",
       "      <td>control</td>\n",
       "      <td>1</td>\n",
       "      <td>84545288</td>\n",
       "      <td>1596715255724</td>\n",
       "      <td>691</td>\n",
       "      <td>965</td>\n",
       "      <td>0.716062</td>\n",
       "    </tr>\n",
       "    <tr>\n",
       "      <th>2</th>\n",
       "      <td>control</td>\n",
       "      <td>2</td>\n",
       "      <td>73370453</td>\n",
       "      <td>1437870212158</td>\n",
       "      <td>621</td>\n",
       "      <td>869</td>\n",
       "      <td>0.714614</td>\n",
       "    </tr>\n",
       "    <tr>\n",
       "      <th>3</th>\n",
       "      <td>control</td>\n",
       "      <td>3</td>\n",
       "      <td>83890595</td>\n",
       "      <td>1659589081667</td>\n",
       "      <td>706</td>\n",
       "      <td>1003</td>\n",
       "      <td>0.703888</td>\n",
       "    </tr>\n",
       "    <tr>\n",
       "      <th>4</th>\n",
       "      <td>control</td>\n",
       "      <td>4</td>\n",
       "      <td>79276740</td>\n",
       "      <td>1520594976777</td>\n",
       "      <td>647</td>\n",
       "      <td>919</td>\n",
       "      <td>0.704026</td>\n",
       "    </tr>\n",
       "  </tbody>\n",
       "</table>\n",
       "</div>"
      ],
      "text/plain": [
       "  exp_group  bucket   user_id    timestamp_x  hitrate  view  hitrate_new\n",
       "0   control       0  83933399  1709217782899      725  1033     0.701839\n",
       "1   control       1  84545288  1596715255724      691   965     0.716062\n",
       "2   control       2  73370453  1437870212158      621   869     0.714614\n",
       "3   control       3  83890595  1659589081667      706  1003     0.703888\n",
       "4   control       4  79276740  1520594976777      647   919     0.704026"
      ]
     },
     "execution_count": 21,
     "metadata": {},
     "output_type": "execute_result"
    }
   ],
   "source": [
    "tmp_agg['view'] = 1\n",
    "\n",
    "new_df = tmp_agg.groupby(['exp_group', 'bucket']).sum(['hitrate', 'view']).reset_index()\n",
    "new_df['hitrate_new'] = new_df.hitrate / new_df.view\n",
    "\n",
    "new_df.head()"
   ]
  },
  {
   "cell_type": "markdown",
   "id": "f788f13f",
   "metadata": {},
   "source": [
    "Посчитаем метрику"
   ]
  },
  {
   "cell_type": "code",
   "execution_count": 22,
   "id": "11bb9601",
   "metadata": {},
   "outputs": [
    {
     "data": {
      "text/plain": [
       "exp_group\n",
       "control    0.706651\n",
       "test       0.719829\n",
       "Name: hitrate, dtype: float64"
      ]
     },
     "execution_count": 22,
     "metadata": {},
     "output_type": "execute_result"
    }
   ],
   "source": [
    "tmp_agg.groupby('exp_group').hitrate.mean()"
   ]
  },
  {
   "cell_type": "markdown",
   "id": "fa7e8795",
   "metadata": {},
   "source": [
    "Видно, что разница есть. Оценим ее."
   ]
  },
  {
   "cell_type": "code",
   "execution_count": 23,
   "id": "d5111487",
   "metadata": {},
   "outputs": [],
   "source": [
    "from scipy.stats import mannwhitneyu, ttest_ind"
   ]
  },
  {
   "cell_type": "code",
   "execution_count": 24,
   "id": "73af3fab",
   "metadata": {},
   "outputs": [
    {
     "data": {
      "text/plain": [
       "MannwhitneyuResult(statistic=2638.5, pvalue=7.981644143462265e-09)"
      ]
     },
     "execution_count": 24,
     "metadata": {},
     "output_type": "execute_result"
    }
   ],
   "source": [
    "mannwhitneyu(\n",
    "    new_df[new_df.exp_group == 'control'].hitrate_new,\n",
    "    new_df[new_df.exp_group == 'test'].hitrate_new,\n",
    ")"
   ]
  },
  {
   "cell_type": "code",
   "execution_count": 25,
   "id": "0b87e290",
   "metadata": {},
   "outputs": [
    {
     "data": {
      "text/plain": [
       "Ttest_indResult(statistic=-5.942939632642004, pvalue=1.2430405826083577e-08)"
      ]
     },
     "execution_count": 25,
     "metadata": {},
     "output_type": "execute_result"
    }
   ],
   "source": [
    "ttest_ind(\n",
    "    new_df[new_df.exp_group == 'control'].hitrate_new,\n",
    "    new_df[new_df.exp_group == 'test'].hitrate_new,\n",
    ")"
   ]
  },
  {
   "cell_type": "markdown",
   "id": "1fc50777",
   "metadata": {},
   "source": [
    "По оценка Манни-Уитни и ttest получили значимую разницу. Значит, можно считать, что новая модель более эффективная."
   ]
  },
  {
   "cell_type": "code",
   "execution_count": null,
   "id": "eff14a49",
   "metadata": {},
   "outputs": [],
   "source": []
  }
 ],
 "metadata": {
  "kernelspec": {
   "display_name": "Python 3 (ipykernel)",
   "language": "python",
   "name": "python3"
  },
  "language_info": {
   "codemirror_mode": {
    "name": "ipython",
    "version": 3
   },
   "file_extension": ".py",
   "mimetype": "text/x-python",
   "name": "python",
   "nbconvert_exporter": "python",
   "pygments_lexer": "ipython3",
   "version": "3.9.13"
  },
  "notebookId": "e1a909ae-c446-40b5-acf0-0ef59f2f5279",
  "notebookPath": "hw_11.ipynb"
 },
 "nbformat": 4,
 "nbformat_minor": 5
}
