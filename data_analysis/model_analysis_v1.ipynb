{
 "cells": [
  {
   "cell_type": "code",
   "execution_count": 85,
   "id": "cf114ae6",
   "metadata": {},
   "outputs": [],
   "source": [
    "import pandas as pd\n",
    "import seaborn as sns\n",
    "import matplotlib.pyplot as plt\n",
    "from sklearn.utils import shuffle\n",
    "from catboost import CatBoostClassifier, Pool"
   ]
  },
  {
   "cell_type": "markdown",
   "id": "c74ebb74",
   "metadata": {},
   "source": [
    "Загрузим и изучим данные."
   ]
  },
  {
   "cell_type": "code",
   "execution_count": 4,
   "id": "a00bc2b6",
   "metadata": {
    "scrolled": true
   },
   "outputs": [
    {
     "data": {
      "text/html": [
       "<div>\n",
       "<style scoped>\n",
       "    .dataframe tbody tr th:only-of-type {\n",
       "        vertical-align: middle;\n",
       "    }\n",
       "\n",
       "    .dataframe tbody tr th {\n",
       "        vertical-align: top;\n",
       "    }\n",
       "\n",
       "    .dataframe thead th {\n",
       "        text-align: right;\n",
       "    }\n",
       "</style>\n",
       "<table border=\"1\" class=\"dataframe\">\n",
       "  <thead>\n",
       "    <tr style=\"text-align: right;\">\n",
       "      <th></th>\n",
       "      <th>user_id</th>\n",
       "      <th>gender</th>\n",
       "      <th>age</th>\n",
       "      <th>country</th>\n",
       "      <th>city</th>\n",
       "      <th>exp_group</th>\n",
       "      <th>os</th>\n",
       "      <th>source</th>\n",
       "    </tr>\n",
       "  </thead>\n",
       "  <tbody>\n",
       "    <tr>\n",
       "      <th>0</th>\n",
       "      <td>200</td>\n",
       "      <td>1</td>\n",
       "      <td>34</td>\n",
       "      <td>Russia</td>\n",
       "      <td>Degtyarsk</td>\n",
       "      <td>3</td>\n",
       "      <td>Android</td>\n",
       "      <td>ads</td>\n",
       "    </tr>\n",
       "    <tr>\n",
       "      <th>1</th>\n",
       "      <td>201</td>\n",
       "      <td>0</td>\n",
       "      <td>37</td>\n",
       "      <td>Russia</td>\n",
       "      <td>Abakan</td>\n",
       "      <td>0</td>\n",
       "      <td>Android</td>\n",
       "      <td>ads</td>\n",
       "    </tr>\n",
       "    <tr>\n",
       "      <th>2</th>\n",
       "      <td>202</td>\n",
       "      <td>1</td>\n",
       "      <td>17</td>\n",
       "      <td>Russia</td>\n",
       "      <td>Smolensk</td>\n",
       "      <td>4</td>\n",
       "      <td>Android</td>\n",
       "      <td>ads</td>\n",
       "    </tr>\n",
       "    <tr>\n",
       "      <th>3</th>\n",
       "      <td>203</td>\n",
       "      <td>0</td>\n",
       "      <td>18</td>\n",
       "      <td>Russia</td>\n",
       "      <td>Moscow</td>\n",
       "      <td>1</td>\n",
       "      <td>iOS</td>\n",
       "      <td>ads</td>\n",
       "    </tr>\n",
       "    <tr>\n",
       "      <th>4</th>\n",
       "      <td>204</td>\n",
       "      <td>0</td>\n",
       "      <td>36</td>\n",
       "      <td>Russia</td>\n",
       "      <td>Anzhero-Sudzhensk</td>\n",
       "      <td>3</td>\n",
       "      <td>Android</td>\n",
       "      <td>ads</td>\n",
       "    </tr>\n",
       "  </tbody>\n",
       "</table>\n",
       "</div>"
      ],
      "text/plain": [
       "   user_id  gender  age country               city  exp_group       os source\n",
       "0      200       1   34  Russia          Degtyarsk          3  Android    ads\n",
       "1      201       0   37  Russia             Abakan          0  Android    ads\n",
       "2      202       1   17  Russia           Smolensk          4  Android    ads\n",
       "3      203       0   18  Russia             Moscow          1      iOS    ads\n",
       "4      204       0   36  Russia  Anzhero-Sudzhensk          3  Android    ads"
      ]
     },
     "execution_count": 4,
     "metadata": {},
     "output_type": "execute_result"
    }
   ],
   "source": [
    "user_data = pd.read_csv('data//users.csv')\n",
    "user_data.head()"
   ]
  },
  {
   "cell_type": "code",
   "execution_count": 15,
   "id": "b7d7f8b3",
   "metadata": {},
   "outputs": [
    {
     "data": {
      "text/plain": [
       "163205"
      ]
     },
     "execution_count": 15,
     "metadata": {},
     "output_type": "execute_result"
    }
   ],
   "source": [
    "# посмотрим, сколько уникальных пользователей\n",
    "user_data.user_id.count()"
   ]
  },
  {
   "cell_type": "code",
   "execution_count": 5,
   "id": "405928b0",
   "metadata": {},
   "outputs": [
    {
     "data": {
      "text/html": [
       "<div>\n",
       "<style scoped>\n",
       "    .dataframe tbody tr th:only-of-type {\n",
       "        vertical-align: middle;\n",
       "    }\n",
       "\n",
       "    .dataframe tbody tr th {\n",
       "        vertical-align: top;\n",
       "    }\n",
       "\n",
       "    .dataframe thead th {\n",
       "        text-align: right;\n",
       "    }\n",
       "</style>\n",
       "<table border=\"1\" class=\"dataframe\">\n",
       "  <thead>\n",
       "    <tr style=\"text-align: right;\">\n",
       "      <th></th>\n",
       "      <th>post_id</th>\n",
       "      <th>text</th>\n",
       "      <th>topic</th>\n",
       "    </tr>\n",
       "  </thead>\n",
       "  <tbody>\n",
       "    <tr>\n",
       "      <th>7018</th>\n",
       "      <td>7315</td>\n",
       "      <td>OK, I would not normally watch a Farrelly brot...</td>\n",
       "      <td>movie</td>\n",
       "    </tr>\n",
       "    <tr>\n",
       "      <th>7019</th>\n",
       "      <td>7316</td>\n",
       "      <td>I give this movie 2 stars purely because of it...</td>\n",
       "      <td>movie</td>\n",
       "    </tr>\n",
       "    <tr>\n",
       "      <th>7020</th>\n",
       "      <td>7317</td>\n",
       "      <td>I cant believe this film was allowed to be mad...</td>\n",
       "      <td>movie</td>\n",
       "    </tr>\n",
       "    <tr>\n",
       "      <th>7021</th>\n",
       "      <td>7318</td>\n",
       "      <td>The version I saw of this film was the Blockbu...</td>\n",
       "      <td>movie</td>\n",
       "    </tr>\n",
       "    <tr>\n",
       "      <th>7022</th>\n",
       "      <td>7319</td>\n",
       "      <td>Piece of subtle art. Maybe a masterpiece. Doub...</td>\n",
       "      <td>movie</td>\n",
       "    </tr>\n",
       "  </tbody>\n",
       "</table>\n",
       "</div>"
      ],
      "text/plain": [
       "      post_id                                               text  topic\n",
       "7018     7315  OK, I would not normally watch a Farrelly brot...  movie\n",
       "7019     7316  I give this movie 2 stars purely because of it...  movie\n",
       "7020     7317  I cant believe this film was allowed to be mad...  movie\n",
       "7021     7318  The version I saw of this film was the Blockbu...  movie\n",
       "7022     7319  Piece of subtle art. Maybe a masterpiece. Doub...  movie"
      ]
     },
     "execution_count": 5,
     "metadata": {},
     "output_type": "execute_result"
    }
   ],
   "source": [
    "post_data = pd.read_csv('data//posts.csv')\n",
    "post_data.tail()"
   ]
  },
  {
   "cell_type": "code",
   "execution_count": 7,
   "id": "932da662",
   "metadata": {
    "scrolled": true
   },
   "outputs": [
    {
     "data": {
      "text/html": [
       "<div>\n",
       "<style scoped>\n",
       "    .dataframe tbody tr th:only-of-type {\n",
       "        vertical-align: middle;\n",
       "    }\n",
       "\n",
       "    .dataframe tbody tr th {\n",
       "        vertical-align: top;\n",
       "    }\n",
       "\n",
       "    .dataframe thead th {\n",
       "        text-align: right;\n",
       "    }\n",
       "</style>\n",
       "<table border=\"1\" class=\"dataframe\">\n",
       "  <thead>\n",
       "    <tr style=\"text-align: right;\">\n",
       "      <th></th>\n",
       "      <th>timestamp</th>\n",
       "      <th>user_id</th>\n",
       "      <th>post_id</th>\n",
       "      <th>action</th>\n",
       "      <th>target</th>\n",
       "    </tr>\n",
       "  </thead>\n",
       "  <tbody>\n",
       "    <tr>\n",
       "      <th>0</th>\n",
       "      <td>2021-10-14 12:45:21</td>\n",
       "      <td>110257</td>\n",
       "      <td>652</td>\n",
       "      <td>view</td>\n",
       "      <td>0</td>\n",
       "    </tr>\n",
       "    <tr>\n",
       "      <th>1</th>\n",
       "      <td>2021-10-31 18:54:52</td>\n",
       "      <td>5320</td>\n",
       "      <td>3811</td>\n",
       "      <td>view</td>\n",
       "      <td>0</td>\n",
       "    </tr>\n",
       "    <tr>\n",
       "      <th>2</th>\n",
       "      <td>2021-11-17 18:21:38</td>\n",
       "      <td>107771</td>\n",
       "      <td>5536</td>\n",
       "      <td>view</td>\n",
       "      <td>0</td>\n",
       "    </tr>\n",
       "    <tr>\n",
       "      <th>3</th>\n",
       "      <td>2021-11-21 17:02:22</td>\n",
       "      <td>83907</td>\n",
       "      <td>2736</td>\n",
       "      <td>view</td>\n",
       "      <td>0</td>\n",
       "    </tr>\n",
       "    <tr>\n",
       "      <th>4</th>\n",
       "      <td>2021-10-13 18:35:53</td>\n",
       "      <td>303</td>\n",
       "      <td>6491</td>\n",
       "      <td>view</td>\n",
       "      <td>0</td>\n",
       "    </tr>\n",
       "  </tbody>\n",
       "</table>\n",
       "</div>"
      ],
      "text/plain": [
       "             timestamp  user_id  post_id action  target\n",
       "0  2021-10-14 12:45:21   110257      652   view       0\n",
       "1  2021-10-31 18:54:52     5320     3811   view       0\n",
       "2  2021-11-17 18:21:38   107771     5536   view       0\n",
       "3  2021-11-21 17:02:22    83907     2736   view       0\n",
       "4  2021-10-13 18:35:53      303     6491   view       0"
      ]
     },
     "execution_count": 7,
     "metadata": {},
     "output_type": "execute_result"
    }
   ],
   "source": [
    "feed_data = pd.read_csv('data//feeds.csv')\n",
    "feed_data.head()"
   ]
  },
  {
   "cell_type": "code",
   "execution_count": 11,
   "id": "6a48f808",
   "metadata": {},
   "outputs": [
    {
     "data": {
      "text/plain": [
       "0.1068128"
      ]
     },
     "execution_count": 11,
     "metadata": {},
     "output_type": "execute_result"
    }
   ],
   "source": [
    "# посмотрим, сколько среди указанных таргетов 1\n",
    "feed_data[feed_data['target'] == 1].target.count() / feed_data.shape[0]\n"
   ]
  },
  {
   "cell_type": "code",
   "execution_count": 13,
   "id": "460540de",
   "metadata": {
    "scrolled": true
   },
   "outputs": [],
   "source": [
    "# создадим фрейм, в который отберем всех user_id, для каждого до 30 активностей\n",
    "feed_data = feed_data.groupby('user_id').apply(lambda x: x.sample(n=min(len(x), 30), random_state=42)).reset_index(drop=True)"
   ]
  },
  {
   "cell_type": "code",
   "execution_count": 16,
   "id": "29527ce3",
   "metadata": {},
   "outputs": [
    {
     "data": {
      "text/plain": [
       "True"
      ]
     },
     "execution_count": 16,
     "metadata": {},
     "output_type": "execute_result"
    }
   ],
   "source": [
    "# убедимся, что для каждого пользователя есть запись в таблице с активностью\n",
    "feed_data.user_id.nunique() == user_data.user_id.count()"
   ]
  },
  {
   "cell_type": "code",
   "execution_count": 19,
   "id": "ccbff464",
   "metadata": {},
   "outputs": [
    {
     "data": {
      "text/plain": [
       "0.10498168308462708"
      ]
     },
     "execution_count": 19,
     "metadata": {},
     "output_type": "execute_result"
    }
   ],
   "source": [
    "# посмотрим, сколько таргетов=1 есть в новой таблице с активностями\n",
    "feed_data[feed_data['target'] == 1].target.count() / feed_data.target.count()"
   ]
  },
  {
   "cell_type": "code",
   "execution_count": 20,
   "id": "3efc7cb4",
   "metadata": {},
   "outputs": [],
   "source": [
    "# дабавим в таблицу с активностями информацию по пользователям и постам\n",
    "df = pd.merge(feed_data, \n",
    "              user_data,\n",
    "              on='user_id',\n",
    "              how='left'\n",
    "             )"
   ]
  },
  {
   "cell_type": "code",
   "execution_count": 21,
   "id": "d6c7c151",
   "metadata": {},
   "outputs": [],
   "source": [
    "df = pd.merge(df, \n",
    "             post_data,\n",
    "             on='post_id',\n",
    "              how='left'\n",
    "             )"
   ]
  },
  {
   "cell_type": "code",
   "execution_count": 23,
   "id": "f6e54eff",
   "metadata": {
    "scrolled": true
   },
   "outputs": [
    {
     "data": {
      "text/html": [
       "<div>\n",
       "<style scoped>\n",
       "    .dataframe tbody tr th:only-of-type {\n",
       "        vertical-align: middle;\n",
       "    }\n",
       "\n",
       "    .dataframe tbody tr th {\n",
       "        vertical-align: top;\n",
       "    }\n",
       "\n",
       "    .dataframe thead th {\n",
       "        text-align: right;\n",
       "    }\n",
       "</style>\n",
       "<table border=\"1\" class=\"dataframe\">\n",
       "  <thead>\n",
       "    <tr style=\"text-align: right;\">\n",
       "      <th></th>\n",
       "      <th>timestamp</th>\n",
       "      <th>user_id</th>\n",
       "      <th>post_id</th>\n",
       "      <th>action</th>\n",
       "      <th>target</th>\n",
       "      <th>gender</th>\n",
       "      <th>age</th>\n",
       "      <th>country</th>\n",
       "      <th>city</th>\n",
       "      <th>exp_group</th>\n",
       "      <th>os</th>\n",
       "      <th>source</th>\n",
       "      <th>text</th>\n",
       "      <th>topic</th>\n",
       "    </tr>\n",
       "  </thead>\n",
       "  <tbody>\n",
       "    <tr>\n",
       "      <th>0</th>\n",
       "      <td>2021-11-13 19:38:59</td>\n",
       "      <td>200</td>\n",
       "      <td>6661</td>\n",
       "      <td>like</td>\n",
       "      <td>0</td>\n",
       "      <td>1</td>\n",
       "      <td>34</td>\n",
       "      <td>Russia</td>\n",
       "      <td>Degtyarsk</td>\n",
       "      <td>3</td>\n",
       "      <td>Android</td>\n",
       "      <td>ads</td>\n",
       "      <td>I grew up on this movie and I can remember whe...</td>\n",
       "      <td>movie</td>\n",
       "    </tr>\n",
       "    <tr>\n",
       "      <th>1</th>\n",
       "      <td>2021-12-24 13:56:32</td>\n",
       "      <td>200</td>\n",
       "      <td>6306</td>\n",
       "      <td>view</td>\n",
       "      <td>0</td>\n",
       "      <td>1</td>\n",
       "      <td>34</td>\n",
       "      <td>Russia</td>\n",
       "      <td>Degtyarsk</td>\n",
       "      <td>3</td>\n",
       "      <td>Android</td>\n",
       "      <td>ads</td>\n",
       "      <td>For a made for TV movie I thought that it was ...</td>\n",
       "      <td>movie</td>\n",
       "    </tr>\n",
       "    <tr>\n",
       "      <th>2</th>\n",
       "      <td>2021-12-29 15:04:47</td>\n",
       "      <td>200</td>\n",
       "      <td>5181</td>\n",
       "      <td>view</td>\n",
       "      <td>0</td>\n",
       "      <td>1</td>\n",
       "      <td>34</td>\n",
       "      <td>Russia</td>\n",
       "      <td>Degtyarsk</td>\n",
       "      <td>3</td>\n",
       "      <td>Android</td>\n",
       "      <td>ads</td>\n",
       "      <td>I saw this film when it was originally release...</td>\n",
       "      <td>movie</td>\n",
       "    </tr>\n",
       "    <tr>\n",
       "      <th>3</th>\n",
       "      <td>2021-12-24 13:43:12</td>\n",
       "      <td>200</td>\n",
       "      <td>4420</td>\n",
       "      <td>view</td>\n",
       "      <td>0</td>\n",
       "      <td>1</td>\n",
       "      <td>34</td>\n",
       "      <td>Russia</td>\n",
       "      <td>Degtyarsk</td>\n",
       "      <td>3</td>\n",
       "      <td>Android</td>\n",
       "      <td>ads</td>\n",
       "      <td>I got stuck in traffic (I live in Sicily) on t...</td>\n",
       "      <td>movie</td>\n",
       "    </tr>\n",
       "    <tr>\n",
       "      <th>4</th>\n",
       "      <td>2021-12-29 15:11:05</td>\n",
       "      <td>200</td>\n",
       "      <td>37</td>\n",
       "      <td>view</td>\n",
       "      <td>0</td>\n",
       "      <td>1</td>\n",
       "      <td>34</td>\n",
       "      <td>Russia</td>\n",
       "      <td>Degtyarsk</td>\n",
       "      <td>3</td>\n",
       "      <td>Android</td>\n",
       "      <td>ads</td>\n",
       "      <td>Bush budget seeks deep cutbacks\\n\\nPresident B...</td>\n",
       "      <td>business</td>\n",
       "    </tr>\n",
       "  </tbody>\n",
       "</table>\n",
       "</div>"
      ],
      "text/plain": [
       "             timestamp  user_id  post_id action  target  gender  age country  \\\n",
       "0  2021-11-13 19:38:59      200     6661   like       0       1   34  Russia   \n",
       "1  2021-12-24 13:56:32      200     6306   view       0       1   34  Russia   \n",
       "2  2021-12-29 15:04:47      200     5181   view       0       1   34  Russia   \n",
       "3  2021-12-24 13:43:12      200     4420   view       0       1   34  Russia   \n",
       "4  2021-12-29 15:11:05      200       37   view       0       1   34  Russia   \n",
       "\n",
       "        city  exp_group       os source  \\\n",
       "0  Degtyarsk          3  Android    ads   \n",
       "1  Degtyarsk          3  Android    ads   \n",
       "2  Degtyarsk          3  Android    ads   \n",
       "3  Degtyarsk          3  Android    ads   \n",
       "4  Degtyarsk          3  Android    ads   \n",
       "\n",
       "                                                text     topic  \n",
       "0  I grew up on this movie and I can remember whe...     movie  \n",
       "1  For a made for TV movie I thought that it was ...     movie  \n",
       "2  I saw this film when it was originally release...     movie  \n",
       "3  I got stuck in traffic (I live in Sicily) on t...     movie  \n",
       "4  Bush budget seeks deep cutbacks\\n\\nPresident B...  business  "
      ]
     },
     "execution_count": 23,
     "metadata": {},
     "output_type": "execute_result"
    }
   ],
   "source": [
    "df.head()"
   ]
  },
  {
   "cell_type": "code",
   "execution_count": 24,
   "id": "2d6d4c08",
   "metadata": {},
   "outputs": [
    {
     "data": {
      "text/plain": [
       "timestamp    object\n",
       "user_id       int64\n",
       "post_id       int64\n",
       "action       object\n",
       "target        int64\n",
       "gender        int64\n",
       "age           int64\n",
       "country      object\n",
       "city         object\n",
       "exp_group     int64\n",
       "os           object\n",
       "source       object\n",
       "text         object\n",
       "topic        object\n",
       "dtype: object"
      ]
     },
     "execution_count": 24,
     "metadata": {},
     "output_type": "execute_result"
    }
   ],
   "source": [
    "# изучим типы данных в таблице\n",
    "df.dtypes"
   ]
  },
  {
   "cell_type": "code",
   "execution_count": 25,
   "id": "a8efa949",
   "metadata": {},
   "outputs": [],
   "source": [
    "# приведем дату к удобному формату и добавим столбцы с месяцем и датой в таблицу\n",
    "df['timestamp'] = pd.to_datetime(df.timestamp)\n",
    "df['month'] = df['timestamp'].dt.month\n",
    "df['day'] = df['timestamp'].dt.day"
   ]
  },
  {
   "cell_type": "code",
   "execution_count": 26,
   "id": "dca8e480",
   "metadata": {
    "scrolled": true
   },
   "outputs": [
    {
     "data": {
      "text/html": [
       "<div>\n",
       "<style scoped>\n",
       "    .dataframe tbody tr th:only-of-type {\n",
       "        vertical-align: middle;\n",
       "    }\n",
       "\n",
       "    .dataframe tbody tr th {\n",
       "        vertical-align: top;\n",
       "    }\n",
       "\n",
       "    .dataframe thead th {\n",
       "        text-align: right;\n",
       "    }\n",
       "</style>\n",
       "<table border=\"1\" class=\"dataframe\">\n",
       "  <thead>\n",
       "    <tr style=\"text-align: right;\">\n",
       "      <th></th>\n",
       "      <th>timestamp</th>\n",
       "      <th>user_id</th>\n",
       "      <th>post_id</th>\n",
       "      <th>action</th>\n",
       "      <th>target</th>\n",
       "      <th>gender</th>\n",
       "      <th>age</th>\n",
       "      <th>country</th>\n",
       "      <th>city</th>\n",
       "      <th>exp_group</th>\n",
       "      <th>os</th>\n",
       "      <th>source</th>\n",
       "      <th>text</th>\n",
       "      <th>topic</th>\n",
       "      <th>month</th>\n",
       "      <th>day</th>\n",
       "    </tr>\n",
       "  </thead>\n",
       "  <tbody>\n",
       "    <tr>\n",
       "      <th>0</th>\n",
       "      <td>2021-11-13 19:38:59</td>\n",
       "      <td>200</td>\n",
       "      <td>6661</td>\n",
       "      <td>like</td>\n",
       "      <td>0</td>\n",
       "      <td>1</td>\n",
       "      <td>34</td>\n",
       "      <td>Russia</td>\n",
       "      <td>Degtyarsk</td>\n",
       "      <td>3</td>\n",
       "      <td>Android</td>\n",
       "      <td>ads</td>\n",
       "      <td>I grew up on this movie and I can remember whe...</td>\n",
       "      <td>movie</td>\n",
       "      <td>11</td>\n",
       "      <td>13</td>\n",
       "    </tr>\n",
       "    <tr>\n",
       "      <th>1</th>\n",
       "      <td>2021-12-24 13:56:32</td>\n",
       "      <td>200</td>\n",
       "      <td>6306</td>\n",
       "      <td>view</td>\n",
       "      <td>0</td>\n",
       "      <td>1</td>\n",
       "      <td>34</td>\n",
       "      <td>Russia</td>\n",
       "      <td>Degtyarsk</td>\n",
       "      <td>3</td>\n",
       "      <td>Android</td>\n",
       "      <td>ads</td>\n",
       "      <td>For a made for TV movie I thought that it was ...</td>\n",
       "      <td>movie</td>\n",
       "      <td>12</td>\n",
       "      <td>24</td>\n",
       "    </tr>\n",
       "    <tr>\n",
       "      <th>2</th>\n",
       "      <td>2021-12-29 15:04:47</td>\n",
       "      <td>200</td>\n",
       "      <td>5181</td>\n",
       "      <td>view</td>\n",
       "      <td>0</td>\n",
       "      <td>1</td>\n",
       "      <td>34</td>\n",
       "      <td>Russia</td>\n",
       "      <td>Degtyarsk</td>\n",
       "      <td>3</td>\n",
       "      <td>Android</td>\n",
       "      <td>ads</td>\n",
       "      <td>I saw this film when it was originally release...</td>\n",
       "      <td>movie</td>\n",
       "      <td>12</td>\n",
       "      <td>29</td>\n",
       "    </tr>\n",
       "    <tr>\n",
       "      <th>3</th>\n",
       "      <td>2021-12-24 13:43:12</td>\n",
       "      <td>200</td>\n",
       "      <td>4420</td>\n",
       "      <td>view</td>\n",
       "      <td>0</td>\n",
       "      <td>1</td>\n",
       "      <td>34</td>\n",
       "      <td>Russia</td>\n",
       "      <td>Degtyarsk</td>\n",
       "      <td>3</td>\n",
       "      <td>Android</td>\n",
       "      <td>ads</td>\n",
       "      <td>I got stuck in traffic (I live in Sicily) on t...</td>\n",
       "      <td>movie</td>\n",
       "      <td>12</td>\n",
       "      <td>24</td>\n",
       "    </tr>\n",
       "    <tr>\n",
       "      <th>4</th>\n",
       "      <td>2021-12-29 15:11:05</td>\n",
       "      <td>200</td>\n",
       "      <td>37</td>\n",
       "      <td>view</td>\n",
       "      <td>0</td>\n",
       "      <td>1</td>\n",
       "      <td>34</td>\n",
       "      <td>Russia</td>\n",
       "      <td>Degtyarsk</td>\n",
       "      <td>3</td>\n",
       "      <td>Android</td>\n",
       "      <td>ads</td>\n",
       "      <td>Bush budget seeks deep cutbacks\\n\\nPresident B...</td>\n",
       "      <td>business</td>\n",
       "      <td>12</td>\n",
       "      <td>29</td>\n",
       "    </tr>\n",
       "  </tbody>\n",
       "</table>\n",
       "</div>"
      ],
      "text/plain": [
       "            timestamp  user_id  post_id action  target  gender  age country  \\\n",
       "0 2021-11-13 19:38:59      200     6661   like       0       1   34  Russia   \n",
       "1 2021-12-24 13:56:32      200     6306   view       0       1   34  Russia   \n",
       "2 2021-12-29 15:04:47      200     5181   view       0       1   34  Russia   \n",
       "3 2021-12-24 13:43:12      200     4420   view       0       1   34  Russia   \n",
       "4 2021-12-29 15:11:05      200       37   view       0       1   34  Russia   \n",
       "\n",
       "        city  exp_group       os source  \\\n",
       "0  Degtyarsk          3  Android    ads   \n",
       "1  Degtyarsk          3  Android    ads   \n",
       "2  Degtyarsk          3  Android    ads   \n",
       "3  Degtyarsk          3  Android    ads   \n",
       "4  Degtyarsk          3  Android    ads   \n",
       "\n",
       "                                                text     topic  month  day  \n",
       "0  I grew up on this movie and I can remember whe...     movie     11   13  \n",
       "1  For a made for TV movie I thought that it was ...     movie     12   24  \n",
       "2  I saw this film when it was originally release...     movie     12   29  \n",
       "3  I got stuck in traffic (I live in Sicily) on t...     movie     12   24  \n",
       "4  Bush budget seeks deep cutbacks\\n\\nPresident B...  business     12   29  "
      ]
     },
     "execution_count": 26,
     "metadata": {},
     "output_type": "execute_result"
    }
   ],
   "source": [
    "df.head()"
   ]
  },
  {
   "cell_type": "code",
   "execution_count": 60,
   "id": "691a080a",
   "metadata": {},
   "outputs": [
    {
     "data": {
      "text/plain": [
       "city\n",
       "Aadorf       2\n",
       "Ababkovo     2\n",
       "Abakan       2\n",
       "Abalak       2\n",
       "Abatskoye    2\n",
       "            ..\n",
       "Şirvan       2\n",
       "Şırnak       2\n",
       "Şəki         2\n",
       "Şəmkir       2\n",
       "Əmircan      2\n",
       "Name: target, Length: 3915, dtype: int64"
      ]
     },
     "execution_count": 60,
     "metadata": {},
     "output_type": "execute_result"
    }
   ],
   "source": [
    "# посмотрим на значения признаков 'os', 'country', 'city', 'topic'\n",
    "df.groupby('city').target.nunique()"
   ]
  },
  {
   "cell_type": "code",
   "execution_count": null,
   "id": "55ebb734",
   "metadata": {},
   "outputs": [],
   "source": [
    "dict(df.groupby('city').target.count())"
   ]
  },
  {
   "cell_type": "code",
   "execution_count": 57,
   "id": "e723ce7d",
   "metadata": {
    "scrolled": true
   },
   "outputs": [
    {
     "data": {
      "text/plain": [
       "<AxesSubplot:xlabel='os', ylabel='Count'>"
      ]
     },
     "execution_count": 57,
     "metadata": {},
     "output_type": "execute_result"
    },
    {
     "data": {
      "image/png": "[encoded data removed]",
      "text/plain": [
       "<Figure size 800x500 with 1 Axes>"
      ]
     },
     "metadata": {},
     "output_type": "display_data"
    }
   ],
   "source": [
    "plt.figure(figsize=(8, 5))\n",
    "sns.histplot(df.os)"
   ]
  },
  {
   "cell_type": "code",
   "execution_count": 61,
   "id": "87fa679a",
   "metadata": {},
   "outputs": [
    {
     "data": {
      "text/plain": [
       "([0, 1, 2, 3, 4, 5, 6, 7, 8, 9, 10],\n",
       " [Text(0, 0, ''),\n",
       "  Text(0, 0, ''),\n",
       "  Text(0, 0, ''),\n",
       "  Text(0, 0, ''),\n",
       "  Text(0, 0, ''),\n",
       "  Text(0, 0, ''),\n",
       "  Text(0, 0, ''),\n",
       "  Text(0, 0, ''),\n",
       "  Text(0, 0, ''),\n",
       "  Text(0, 0, ''),\n",
       "  Text(0, 0, '')])"
      ]
     },
     "execution_count": 61,
     "metadata": {},
     "output_type": "execute_result"
    },
    {
     "data": {
      "image/png": "[encoded data removed]",
      "text/plain": [
       "<Figure size 1000x800 with 2 Axes>"
      ]
     },
     "metadata": {},
     "output_type": "display_data"
    }
   ],
   "source": [
    "plt.figure(figsize=(10, 8))\n",
    "\n",
    "plt.subplot(1, 2, 1)\n",
    "sns.histplot(df.topic)\n",
    "plt.xlabel('Названия заголовков')\n",
    "plt.ylabel('Частота')\n",
    "plt.title('Распределение')\n",
    "plt.xticks(rotation=45)\n",
    "\n",
    "plt.subplot(1, 2, 2)\n",
    "sns.histplot(df.country)\n",
    "plt.xlabel('Страна')\n",
    "plt.ylabel('Частота')\n",
    "plt.title('Распределение стран')\n",
    "plt.xticks(rotation=45)"
   ]
  },
  {
   "cell_type": "markdown",
   "id": "8296e3d7",
   "metadata": {},
   "source": [
    " Признак 'action' отражен в целевой переменной (по условию таргет = 1, если у поста был лайк). Удалим столбцы 'action', 'user_id','post_id', 'timestamp'. В качестве бейзлайна обучим catboost."
   ]
  },
  {
   "cell_type": "code",
   "execution_count": 66,
   "id": "e6d23ae3",
   "metadata": {},
   "outputs": [],
   "source": [
    "df = df.drop(['action', 'user_id','post_id', 'timestamp', 'text'], axis = 1)"
   ]
  },
  {
   "cell_type": "code",
   "execution_count": 67,
   "id": "dc465fba",
   "metadata": {},
   "outputs": [
    {
     "data": {
      "text/plain": [
       "(4749981, 11)"
      ]
     },
     "execution_count": 67,
     "metadata": {},
     "output_type": "execute_result"
    }
   ],
   "source": [
    "df.shape"
   ]
  },
  {
   "cell_type": "code",
   "execution_count": 68,
   "id": "7c17ffa4",
   "metadata": {
    "scrolled": false
   },
   "outputs": [
    {
     "data": {
      "text/plain": [
       "target        int64\n",
       "gender        int64\n",
       "age           int64\n",
       "country      object\n",
       "city         object\n",
       "exp_group     int64\n",
       "os           object\n",
       "source       object\n",
       "topic        object\n",
       "month         int64\n",
       "day           int64\n",
       "dtype: object"
      ]
     },
     "execution_count": 68,
     "metadata": {},
     "output_type": "execute_result"
    }
   ],
   "source": [
    "df.dtypes"
   ]
  },
  {
   "cell_type": "code",
   "execution_count": 88,
   "id": "9edd6d7a",
   "metadata": {},
   "outputs": [
    {
     "data": {
      "text/plain": [
       "['country', 'city', 'os', 'source', 'topic']"
      ]
     },
     "execution_count": 88,
     "metadata": {},
     "output_type": "execute_result"
    }
   ],
   "source": [
    "# составим список категориальных признаков.\n",
    "cat_features = list(df.select_dtypes(include=['object']).columns)\n",
    "cat_features"
   ]
  },
  {
   "cell_type": "markdown",
   "id": "dd8f21ed",
   "metadata": {},
   "source": [
    "Данные отсортированы по user_id, замешаем перед обучением."
   ]
  },
  {
   "cell_type": "code",
   "execution_count": 72,
   "id": "2f04ca63",
   "metadata": {},
   "outputs": [],
   "source": [
    "df = shuffle(df)"
   ]
  },
  {
   "cell_type": "code",
   "execution_count": 73,
   "id": "bb888760",
   "metadata": {},
   "outputs": [],
   "source": [
    "# разделим данные на трайн и тест (ручным способом)\n",
    "train = df.iloc[:3000000].copy()\n",
    "test = df.iloc[3000000:4000000].copy()"
   ]
  },
  {
   "cell_type": "code",
   "execution_count": 82,
   "id": "5041428c",
   "metadata": {},
   "outputs": [],
   "source": [
    "X_train = train.drop(['target'], axis = 1)\n",
    "y_train = train.target\n",
    "\n",
    "X_test = test.drop(['target'], axis = 1)\n",
    "y_test = test.target"
   ]
  },
  {
   "cell_type": "code",
   "execution_count": 84,
   "id": "6bb8d417",
   "metadata": {},
   "outputs": [
    {
     "data": {
      "text/html": [
       "<div>\n",
       "<style scoped>\n",
       "    .dataframe tbody tr th:only-of-type {\n",
       "        vertical-align: middle;\n",
       "    }\n",
       "\n",
       "    .dataframe tbody tr th {\n",
       "        vertical-align: top;\n",
       "    }\n",
       "\n",
       "    .dataframe thead th {\n",
       "        text-align: right;\n",
       "    }\n",
       "</style>\n",
       "<table border=\"1\" class=\"dataframe\">\n",
       "  <thead>\n",
       "    <tr style=\"text-align: right;\">\n",
       "      <th></th>\n",
       "      <th>gender</th>\n",
       "      <th>age</th>\n",
       "      <th>country</th>\n",
       "      <th>city</th>\n",
       "      <th>exp_group</th>\n",
       "      <th>os</th>\n",
       "      <th>source</th>\n",
       "      <th>topic</th>\n",
       "      <th>month</th>\n",
       "      <th>day</th>\n",
       "    </tr>\n",
       "  </thead>\n",
       "  <tbody>\n",
       "    <tr>\n",
       "      <th>3179341</th>\n",
       "      <td>0</td>\n",
       "      <td>21</td>\n",
       "      <td>Russia</td>\n",
       "      <td>Kasli</td>\n",
       "      <td>4</td>\n",
       "      <td>iOS</td>\n",
       "      <td>organic</td>\n",
       "      <td>movie</td>\n",
       "      <td>12</td>\n",
       "      <td>7</td>\n",
       "    </tr>\n",
       "    <tr>\n",
       "      <th>4611855</th>\n",
       "      <td>0</td>\n",
       "      <td>43</td>\n",
       "      <td>Russia</td>\n",
       "      <td>Moscow</td>\n",
       "      <td>1</td>\n",
       "      <td>Android</td>\n",
       "      <td>organic</td>\n",
       "      <td>sport</td>\n",
       "      <td>11</td>\n",
       "      <td>7</td>\n",
       "    </tr>\n",
       "    <tr>\n",
       "      <th>2993878</th>\n",
       "      <td>1</td>\n",
       "      <td>35</td>\n",
       "      <td>Russia</td>\n",
       "      <td>Syktyvkar</td>\n",
       "      <td>3</td>\n",
       "      <td>iOS</td>\n",
       "      <td>organic</td>\n",
       "      <td>covid</td>\n",
       "      <td>10</td>\n",
       "      <td>4</td>\n",
       "    </tr>\n",
       "    <tr>\n",
       "      <th>183037</th>\n",
       "      <td>1</td>\n",
       "      <td>18</td>\n",
       "      <td>Ukraine</td>\n",
       "      <td>Makiivka</td>\n",
       "      <td>0</td>\n",
       "      <td>Android</td>\n",
       "      <td>ads</td>\n",
       "      <td>sport</td>\n",
       "      <td>10</td>\n",
       "      <td>24</td>\n",
       "    </tr>\n",
       "    <tr>\n",
       "      <th>2119661</th>\n",
       "      <td>0</td>\n",
       "      <td>44</td>\n",
       "      <td>Russia</td>\n",
       "      <td>Miass</td>\n",
       "      <td>1</td>\n",
       "      <td>Android</td>\n",
       "      <td>ads</td>\n",
       "      <td>sport</td>\n",
       "      <td>11</td>\n",
       "      <td>3</td>\n",
       "    </tr>\n",
       "  </tbody>\n",
       "</table>\n",
       "</div>"
      ],
      "text/plain": [
       "         gender  age  country       city  exp_group       os   source  topic  \\\n",
       "3179341       0   21   Russia      Kasli          4      iOS  organic  movie   \n",
       "4611855       0   43   Russia     Moscow          1  Android  organic  sport   \n",
       "2993878       1   35   Russia  Syktyvkar          3      iOS  organic  covid   \n",
       "183037        1   18  Ukraine   Makiivka          0  Android      ads  sport   \n",
       "2119661       0   44   Russia      Miass          1  Android      ads  sport   \n",
       "\n",
       "         month  day  \n",
       "3179341     12    7  \n",
       "4611855     11    7  \n",
       "2993878     10    4  \n",
       "183037      10   24  \n",
       "2119661     11    3  "
      ]
     },
     "execution_count": 84,
     "metadata": {},
     "output_type": "execute_result"
    }
   ],
   "source": [
    "X_train.head()"
   ]
  },
  {
   "cell_type": "code",
   "execution_count": 101,
   "id": "7b392e9c",
   "metadata": {},
   "outputs": [
    {
     "name": "stdout",
     "output_type": "stream",
     "text": [
      "Learning rate set to 0.5\n",
      "0:\tlearn: 0.4037626\ttotal: 1.15s\tremaining: 9m 33s\n",
      "1:\tlearn: 0.3471113\ttotal: 2.15s\tremaining: 8m 54s\n",
      "2:\tlearn: 0.3347145\ttotal: 3.08s\tremaining: 8m 30s\n",
      "3:\tlearn: 0.3291937\ttotal: 4.25s\tremaining: 8m 46s\n",
      "4:\tlearn: 0.3276062\ttotal: 5.23s\tremaining: 8m 37s\n",
      "5:\tlearn: 0.3268359\ttotal: 6.15s\tremaining: 8m 26s\n",
      "6:\tlearn: 0.3257982\ttotal: 6.77s\tremaining: 7m 56s\n",
      "7:\tlearn: 0.3256673\ttotal: 7.79s\tremaining: 7m 59s\n",
      "8:\tlearn: 0.3254734\ttotal: 8.72s\tremaining: 7m 55s\n",
      "9:\tlearn: 0.3237956\ttotal: 9.5s\tremaining: 7m 45s\n",
      "10:\tlearn: 0.3236912\ttotal: 10.2s\tremaining: 7m 35s\n",
      "11:\tlearn: 0.3233359\ttotal: 11.4s\tremaining: 7m 42s\n",
      "12:\tlearn: 0.3232600\ttotal: 12.2s\tremaining: 7m 36s\n",
      "13:\tlearn: 0.3231796\ttotal: 13.3s\tremaining: 7m 41s\n",
      "14:\tlearn: 0.3230154\ttotal: 14.3s\tremaining: 7m 41s\n",
      "15:\tlearn: 0.3229988\ttotal: 15.2s\tremaining: 7m 39s\n",
      "16:\tlearn: 0.3229837\ttotal: 16.1s\tremaining: 7m 37s\n",
      "17:\tlearn: 0.3229833\ttotal: 16.8s\tremaining: 7m 29s\n",
      "18:\tlearn: 0.3229682\ttotal: 17.6s\tremaining: 7m 26s\n",
      "19:\tlearn: 0.3228681\ttotal: 18.7s\tremaining: 7m 29s\n",
      "20:\tlearn: 0.3228498\ttotal: 19.9s\tremaining: 7m 32s\n",
      "21:\tlearn: 0.3227111\ttotal: 20.9s\tremaining: 7m 33s\n",
      "22:\tlearn: 0.3226999\ttotal: 21.9s\tremaining: 7m 35s\n",
      "23:\tlearn: 0.3226704\ttotal: 22.7s\tremaining: 7m 30s\n",
      "24:\tlearn: 0.3226677\ttotal: 23.6s\tremaining: 7m 28s\n",
      "25:\tlearn: 0.3225711\ttotal: 24.6s\tremaining: 7m 28s\n",
      "26:\tlearn: 0.3225533\ttotal: 25.5s\tremaining: 7m 27s\n",
      "27:\tlearn: 0.3225505\ttotal: 26.4s\tremaining: 7m 24s\n",
      "28:\tlearn: 0.3225471\ttotal: 27.4s\tremaining: 7m 25s\n",
      "29:\tlearn: 0.3225346\ttotal: 28.4s\tremaining: 7m 25s\n",
      "30:\tlearn: 0.3225077\ttotal: 29.6s\tremaining: 7m 27s\n",
      "31:\tlearn: 0.3224775\ttotal: 30.7s\tremaining: 7m 28s\n",
      "32:\tlearn: 0.3224343\ttotal: 31.6s\tremaining: 7m 27s\n",
      "33:\tlearn: 0.3223735\ttotal: 32.3s\tremaining: 7m 22s\n",
      "34:\tlearn: 0.3223499\ttotal: 33.2s\tremaining: 7m 20s\n",
      "35:\tlearn: 0.3223470\ttotal: 33.9s\tremaining: 7m 16s\n",
      "36:\tlearn: 0.3223311\ttotal: 34.7s\tremaining: 7m 14s\n",
      "37:\tlearn: 0.3223255\ttotal: 35.7s\tremaining: 7m 14s\n",
      "38:\tlearn: 0.3223096\ttotal: 37s\tremaining: 7m 16s\n",
      "39:\tlearn: 0.3222878\ttotal: 37.9s\tremaining: 7m 15s\n",
      "40:\tlearn: 0.3222811\ttotal: 38.8s\tremaining: 7m 13s\n",
      "41:\tlearn: 0.3222613\ttotal: 39.8s\tremaining: 7m 14s\n",
      "42:\tlearn: 0.3222584\ttotal: 40.7s\tremaining: 7m 12s\n",
      "43:\tlearn: 0.3222540\ttotal: 41.8s\tremaining: 7m 13s\n",
      "44:\tlearn: 0.3222348\ttotal: 42.8s\tremaining: 7m 12s\n",
      "45:\tlearn: 0.3222229\ttotal: 43.7s\tremaining: 7m 11s\n",
      "46:\tlearn: 0.3222161\ttotal: 44.7s\tremaining: 7m 10s\n",
      "47:\tlearn: 0.3222141\ttotal: 45.6s\tremaining: 7m 9s\n",
      "48:\tlearn: 0.3222058\ttotal: 46.6s\tremaining: 7m 8s\n",
      "49:\tlearn: 0.3221981\ttotal: 47.5s\tremaining: 7m 7s\n",
      "50:\tlearn: 0.3221937\ttotal: 48.3s\tremaining: 7m 5s\n",
      "51:\tlearn: 0.3221844\ttotal: 49.3s\tremaining: 7m 4s\n",
      "52:\tlearn: 0.3221765\ttotal: 50.2s\tremaining: 7m 3s\n",
      "53:\tlearn: 0.3221724\ttotal: 51.1s\tremaining: 7m 2s\n",
      "54:\tlearn: 0.3221487\ttotal: 51.9s\tremaining: 6m 59s\n",
      "55:\tlearn: 0.3221429\ttotal: 53s\tremaining: 7m\n",
      "56:\tlearn: 0.3221385\ttotal: 54.3s\tremaining: 7m 1s\n",
      "57:\tlearn: 0.3221306\ttotal: 55.3s\tremaining: 7m 1s\n",
      "58:\tlearn: 0.3221145\ttotal: 56.4s\tremaining: 7m 1s\n",
      "59:\tlearn: 0.3221041\ttotal: 57.5s\tremaining: 7m 1s\n",
      "60:\tlearn: 0.3220945\ttotal: 58.5s\tremaining: 7m 1s\n",
      "61:\tlearn: 0.3220890\ttotal: 59.7s\tremaining: 7m 1s\n",
      "62:\tlearn: 0.3220865\ttotal: 1m\tremaining: 7m\n",
      "63:\tlearn: 0.3220723\ttotal: 1m 1s\tremaining: 6m 59s\n",
      "64:\tlearn: 0.3220692\ttotal: 1m 2s\tremaining: 6m 59s\n",
      "65:\tlearn: 0.3220640\ttotal: 1m 3s\tremaining: 6m 58s\n",
      "66:\tlearn: 0.3220547\ttotal: 1m 4s\tremaining: 6m 56s\n",
      "67:\tlearn: 0.3220493\ttotal: 1m 5s\tremaining: 6m 58s\n",
      "68:\tlearn: 0.3220481\ttotal: 1m 6s\tremaining: 6m 57s\n",
      "69:\tlearn: 0.3220460\ttotal: 1m 7s\tremaining: 6m 56s\n",
      "70:\tlearn: 0.3220457\ttotal: 1m 8s\tremaining: 6m 56s\n",
      "71:\tlearn: 0.3220453\ttotal: 1m 9s\tremaining: 6m 54s\n",
      "72:\tlearn: 0.3220387\ttotal: 1m 10s\tremaining: 6m 53s\n",
      "73:\tlearn: 0.3220278\ttotal: 1m 11s\tremaining: 6m 52s\n",
      "74:\tlearn: 0.3220224\ttotal: 1m 12s\tremaining: 6m 50s\n",
      "75:\tlearn: 0.3220174\ttotal: 1m 13s\tremaining: 6m 49s\n",
      "76:\tlearn: 0.3220141\ttotal: 1m 14s\tremaining: 6m 49s\n",
      "77:\tlearn: 0.3220074\ttotal: 1m 15s\tremaining: 6m 50s\n",
      "78:\tlearn: 0.3220047\ttotal: 1m 17s\tremaining: 6m 50s\n",
      "79:\tlearn: 0.3219999\ttotal: 1m 18s\tremaining: 6m 50s\n",
      "80:\tlearn: 0.3219648\ttotal: 1m 19s\tremaining: 6m 49s\n",
      "81:\tlearn: 0.3219556\ttotal: 1m 20s\tremaining: 6m 49s\n",
      "82:\tlearn: 0.3219485\ttotal: 1m 21s\tremaining: 6m 49s\n",
      "83:\tlearn: 0.3219414\ttotal: 1m 22s\tremaining: 6m 48s\n",
      "84:\tlearn: 0.3219365\ttotal: 1m 23s\tremaining: 6m 47s\n",
      "85:\tlearn: 0.3219315\ttotal: 1m 24s\tremaining: 6m 46s\n",
      "86:\tlearn: 0.3219298\ttotal: 1m 25s\tremaining: 6m 44s\n",
      "87:\tlearn: 0.3219180\ttotal: 1m 26s\tremaining: 6m 44s\n",
      "88:\tlearn: 0.3219142\ttotal: 1m 27s\tremaining: 6m 43s\n",
      "89:\tlearn: 0.3219123\ttotal: 1m 28s\tremaining: 6m 42s\n",
      "90:\tlearn: 0.3219072\ttotal: 1m 29s\tremaining: 6m 41s\n",
      "91:\tlearn: 0.3218920\ttotal: 1m 30s\tremaining: 6m 40s\n",
      "92:\tlearn: 0.3218790\ttotal: 1m 31s\tremaining: 6m 40s\n",
      "93:\tlearn: 0.3218715\ttotal: 1m 32s\tremaining: 6m 39s\n",
      "94:\tlearn: 0.3218650\ttotal: 1m 33s\tremaining: 6m 38s\n",
      "95:\tlearn: 0.3218570\ttotal: 1m 34s\tremaining: 6m 38s\n",
      "96:\tlearn: 0.3218498\ttotal: 1m 35s\tremaining: 6m 37s\n",
      "97:\tlearn: 0.3218462\ttotal: 1m 36s\tremaining: 6m 36s\n",
      "98:\tlearn: 0.3218437\ttotal: 1m 37s\tremaining: 6m 35s\n",
      "99:\tlearn: 0.3218409\ttotal: 1m 38s\tremaining: 6m 35s\n",
      "100:\tlearn: 0.3218384\ttotal: 1m 40s\tremaining: 6m 35s\n",
      "101:\tlearn: 0.3218356\ttotal: 1m 41s\tremaining: 6m 34s\n",
      "102:\tlearn: 0.3218304\ttotal: 1m 41s\tremaining: 6m 32s\n",
      "103:\tlearn: 0.3218265\ttotal: 1m 42s\tremaining: 6m 31s\n",
      "104:\tlearn: 0.3218233\ttotal: 1m 43s\tremaining: 6m 31s\n",
      "105:\tlearn: 0.3218181\ttotal: 1m 45s\tremaining: 6m 30s\n",
      "106:\tlearn: 0.3218143\ttotal: 1m 45s\tremaining: 6m 28s\n",
      "107:\tlearn: 0.3218111\ttotal: 1m 46s\tremaining: 6m 28s\n",
      "108:\tlearn: 0.3218056\ttotal: 1m 47s\tremaining: 6m 27s\n",
      "109:\tlearn: 0.3218014\ttotal: 1m 49s\tremaining: 6m 26s\n",
      "110:\tlearn: 0.3217941\ttotal: 1m 50s\tremaining: 6m 25s\n",
      "111:\tlearn: 0.3217911\ttotal: 1m 51s\tremaining: 6m 25s\n",
      "112:\tlearn: 0.3217830\ttotal: 1m 52s\tremaining: 6m 24s\n",
      "113:\tlearn: 0.3217801\ttotal: 1m 53s\tremaining: 6m 23s\n",
      "114:\tlearn: 0.3217695\ttotal: 1m 54s\tremaining: 6m 23s\n",
      "115:\tlearn: 0.3217647\ttotal: 1m 55s\tremaining: 6m 22s\n",
      "116:\tlearn: 0.3217568\ttotal: 1m 56s\tremaining: 6m 21s\n",
      "117:\tlearn: 0.3217500\ttotal: 1m 57s\tremaining: 6m 20s\n",
      "118:\tlearn: 0.3217467\ttotal: 1m 58s\tremaining: 6m 19s\n",
      "119:\tlearn: 0.3217406\ttotal: 1m 59s\tremaining: 6m 18s\n",
      "120:\tlearn: 0.3217303\ttotal: 2m\tremaining: 6m 18s\n",
      "121:\tlearn: 0.3217293\ttotal: 2m 1s\tremaining: 6m 16s\n",
      "122:\tlearn: 0.3217287\ttotal: 2m 2s\tremaining: 6m 15s\n",
      "123:\tlearn: 0.3217245\ttotal: 2m 3s\tremaining: 6m 14s\n",
      "124:\tlearn: 0.3217193\ttotal: 2m 4s\tremaining: 6m 13s\n",
      "125:\tlearn: 0.3217137\ttotal: 2m 5s\tremaining: 6m 12s\n",
      "126:\tlearn: 0.3217083\ttotal: 2m 6s\tremaining: 6m 11s\n",
      "127:\tlearn: 0.3217038\ttotal: 2m 7s\tremaining: 6m 10s\n",
      "128:\tlearn: 0.3216966\ttotal: 2m 8s\tremaining: 6m 9s\n",
      "129:\tlearn: 0.3216875\ttotal: 2m 9s\tremaining: 6m 9s\n",
      "130:\tlearn: 0.3216794\ttotal: 2m 10s\tremaining: 6m 7s\n",
      "131:\tlearn: 0.3216749\ttotal: 2m 11s\tremaining: 6m 6s\n",
      "132:\tlearn: 0.3216701\ttotal: 2m 12s\tremaining: 6m 5s\n",
      "133:\tlearn: 0.3216676\ttotal: 2m 13s\tremaining: 6m 4s\n",
      "134:\tlearn: 0.3216658\ttotal: 2m 14s\tremaining: 6m 4s\n",
      "135:\tlearn: 0.3216624\ttotal: 2m 15s\tremaining: 6m 3s\n",
      "136:\tlearn: 0.3216573\ttotal: 2m 16s\tremaining: 6m 2s\n",
      "137:\tlearn: 0.3216454\ttotal: 2m 17s\tremaining: 6m 1s\n",
      "138:\tlearn: 0.3216427\ttotal: 2m 18s\tremaining: 6m\n",
      "139:\tlearn: 0.3216383\ttotal: 2m 20s\tremaining: 6m\n",
      "140:\tlearn: 0.3216346\ttotal: 2m 21s\tremaining: 5m 59s\n",
      "141:\tlearn: 0.3216321\ttotal: 2m 22s\tremaining: 5m 58s\n",
      "142:\tlearn: 0.3216274\ttotal: 2m 23s\tremaining: 5m 57s\n",
      "143:\tlearn: 0.3216214\ttotal: 2m 24s\tremaining: 5m 56s\n",
      "144:\tlearn: 0.3216206\ttotal: 2m 24s\tremaining: 5m 54s\n",
      "145:\tlearn: 0.3216174\ttotal: 2m 26s\tremaining: 5m 54s\n",
      "146:\tlearn: 0.3216148\ttotal: 2m 27s\tremaining: 5m 53s\n",
      "147:\tlearn: 0.3216141\ttotal: 2m 28s\tremaining: 5m 53s\n",
      "148:\tlearn: 0.3216071\ttotal: 2m 29s\tremaining: 5m 52s\n",
      "149:\tlearn: 0.3216045\ttotal: 2m 30s\tremaining: 5m 51s\n",
      "150:\tlearn: 0.3216029\ttotal: 2m 31s\tremaining: 5m 51s\n",
      "151:\tlearn: 0.3215996\ttotal: 2m 32s\tremaining: 5m 50s\n",
      "152:\tlearn: 0.3215974\ttotal: 2m 34s\tremaining: 5m 49s\n",
      "153:\tlearn: 0.3215950\ttotal: 2m 35s\tremaining: 5m 48s\n",
      "154:\tlearn: 0.3215917\ttotal: 2m 36s\tremaining: 5m 47s\n",
      "155:\tlearn: 0.3215882\ttotal: 2m 37s\tremaining: 5m 46s\n"
     ]
    },
    {
     "name": "stdout",
     "output_type": "stream",
     "text": [
      "156:\tlearn: 0.3215829\ttotal: 2m 38s\tremaining: 5m 45s\n",
      "157:\tlearn: 0.3215773\ttotal: 2m 39s\tremaining: 5m 44s\n",
      "158:\tlearn: 0.3215709\ttotal: 2m 40s\tremaining: 5m 43s\n",
      "159:\tlearn: 0.3215692\ttotal: 2m 41s\tremaining: 5m 42s\n",
      "160:\tlearn: 0.3215663\ttotal: 2m 42s\tremaining: 5m 41s\n",
      "161:\tlearn: 0.3215635\ttotal: 2m 42s\tremaining: 5m 39s\n",
      "162:\tlearn: 0.3215591\ttotal: 2m 44s\tremaining: 5m 39s\n",
      "163:\tlearn: 0.3215521\ttotal: 2m 45s\tremaining: 5m 38s\n",
      "164:\tlearn: 0.3215471\ttotal: 2m 46s\tremaining: 5m 37s\n",
      "165:\tlearn: 0.3215410\ttotal: 2m 47s\tremaining: 5m 36s\n",
      "166:\tlearn: 0.3215362\ttotal: 2m 48s\tremaining: 5m 35s\n",
      "167:\tlearn: 0.3215331\ttotal: 2m 49s\tremaining: 5m 34s\n",
      "168:\tlearn: 0.3215321\ttotal: 2m 49s\tremaining: 5m 32s\n",
      "169:\tlearn: 0.3215282\ttotal: 2m 50s\tremaining: 5m 31s\n",
      "170:\tlearn: 0.3215254\ttotal: 2m 51s\tremaining: 5m 30s\n",
      "171:\tlearn: 0.3215236\ttotal: 2m 52s\tremaining: 5m 29s\n",
      "172:\tlearn: 0.3215196\ttotal: 2m 53s\tremaining: 5m 28s\n",
      "173:\tlearn: 0.3215143\ttotal: 2m 54s\tremaining: 5m 26s\n",
      "174:\tlearn: 0.3215098\ttotal: 2m 55s\tremaining: 5m 25s\n",
      "175:\tlearn: 0.3215072\ttotal: 2m 56s\tremaining: 5m 24s\n",
      "176:\tlearn: 0.3215048\ttotal: 2m 57s\tremaining: 5m 23s\n",
      "177:\tlearn: 0.3215004\ttotal: 2m 58s\tremaining: 5m 22s\n",
      "178:\tlearn: 0.3214978\ttotal: 2m 59s\tremaining: 5m 21s\n",
      "179:\tlearn: 0.3214962\ttotal: 3m\tremaining: 5m 20s\n",
      "180:\tlearn: 0.3214935\ttotal: 3m 1s\tremaining: 5m 19s\n",
      "181:\tlearn: 0.3214912\ttotal: 3m 2s\tremaining: 5m 18s\n",
      "182:\tlearn: 0.3214864\ttotal: 3m 3s\tremaining: 5m 17s\n",
      "183:\tlearn: 0.3214749\ttotal: 3m 4s\tremaining: 5m 16s\n",
      "184:\tlearn: 0.3214728\ttotal: 3m 5s\tremaining: 5m 15s\n",
      "185:\tlearn: 0.3214704\ttotal: 3m 6s\tremaining: 5m 14s\n",
      "186:\tlearn: 0.3214680\ttotal: 3m 7s\tremaining: 5m 13s\n",
      "187:\tlearn: 0.3214623\ttotal: 3m 8s\tremaining: 5m 12s\n",
      "188:\tlearn: 0.3214601\ttotal: 3m 9s\tremaining: 5m 11s\n",
      "189:\tlearn: 0.3214560\ttotal: 3m 10s\tremaining: 5m 10s\n",
      "190:\tlearn: 0.3214497\ttotal: 3m 11s\tremaining: 5m 10s\n",
      "191:\tlearn: 0.3214333\ttotal: 3m 12s\tremaining: 5m 9s\n",
      "192:\tlearn: 0.3214291\ttotal: 3m 14s\tremaining: 5m 8s\n",
      "193:\tlearn: 0.3214239\ttotal: 3m 14s\tremaining: 5m 7s\n",
      "194:\tlearn: 0.3214152\ttotal: 3m 15s\tremaining: 5m 6s\n",
      "195:\tlearn: 0.3214101\ttotal: 3m 16s\tremaining: 5m 5s\n",
      "196:\tlearn: 0.3214071\ttotal: 3m 17s\tremaining: 5m 4s\n",
      "197:\tlearn: 0.3214010\ttotal: 3m 18s\tremaining: 5m 3s\n",
      "198:\tlearn: 0.3213969\ttotal: 3m 19s\tremaining: 5m 2s\n",
      "199:\tlearn: 0.3213919\ttotal: 3m 20s\tremaining: 5m 1s\n",
      "200:\tlearn: 0.3213902\ttotal: 3m 21s\tremaining: 4m 59s\n",
      "201:\tlearn: 0.3213865\ttotal: 3m 22s\tremaining: 4m 59s\n",
      "202:\tlearn: 0.3213820\ttotal: 3m 23s\tremaining: 4m 58s\n",
      "203:\tlearn: 0.3213797\ttotal: 3m 24s\tremaining: 4m 56s\n",
      "204:\tlearn: 0.3213749\ttotal: 3m 25s\tremaining: 4m 55s\n",
      "205:\tlearn: 0.3213743\ttotal: 3m 26s\tremaining: 4m 54s\n",
      "206:\tlearn: 0.3213726\ttotal: 3m 27s\tremaining: 4m 53s\n",
      "207:\tlearn: 0.3213627\ttotal: 3m 28s\tremaining: 4m 52s\n",
      "208:\tlearn: 0.3213612\ttotal: 3m 29s\tremaining: 4m 51s\n",
      "209:\tlearn: 0.3213563\ttotal: 3m 30s\tremaining: 4m 50s\n",
      "210:\tlearn: 0.3213489\ttotal: 3m 31s\tremaining: 4m 49s\n",
      "211:\tlearn: 0.3213453\ttotal: 3m 32s\tremaining: 4m 48s\n",
      "212:\tlearn: 0.3213420\ttotal: 3m 33s\tremaining: 4m 47s\n",
      "213:\tlearn: 0.3213387\ttotal: 3m 34s\tremaining: 4m 46s\n",
      "214:\tlearn: 0.3213367\ttotal: 3m 35s\tremaining: 4m 46s\n",
      "215:\tlearn: 0.3213280\ttotal: 3m 36s\tremaining: 4m 44s\n",
      "216:\tlearn: 0.3213228\ttotal: 3m 37s\tremaining: 4m 44s\n",
      "217:\tlearn: 0.3213151\ttotal: 3m 38s\tremaining: 4m 42s\n",
      "218:\tlearn: 0.3213108\ttotal: 3m 39s\tremaining: 4m 41s\n",
      "219:\tlearn: 0.3213089\ttotal: 3m 40s\tremaining: 4m 40s\n",
      "220:\tlearn: 0.3213024\ttotal: 3m 41s\tremaining: 4m 39s\n",
      "221:\tlearn: 0.3212988\ttotal: 3m 42s\tremaining: 4m 39s\n",
      "222:\tlearn: 0.3212977\ttotal: 3m 43s\tremaining: 4m 37s\n",
      "223:\tlearn: 0.3212926\ttotal: 3m 44s\tremaining: 4m 37s\n",
      "224:\tlearn: 0.3212904\ttotal: 3m 46s\tremaining: 4m 36s\n",
      "225:\tlearn: 0.3212883\ttotal: 3m 47s\tremaining: 4m 35s\n",
      "226:\tlearn: 0.3212813\ttotal: 3m 48s\tremaining: 4m 34s\n",
      "227:\tlearn: 0.3212777\ttotal: 3m 49s\tremaining: 4m 33s\n",
      "228:\tlearn: 0.3212761\ttotal: 3m 50s\tremaining: 4m 32s\n",
      "229:\tlearn: 0.3212722\ttotal: 3m 51s\tremaining: 4m 31s\n",
      "230:\tlearn: 0.3212654\ttotal: 3m 52s\tremaining: 4m 30s\n",
      "231:\tlearn: 0.3212625\ttotal: 3m 53s\tremaining: 4m 29s\n",
      "232:\tlearn: 0.3212564\ttotal: 3m 54s\tremaining: 4m 28s\n",
      "233:\tlearn: 0.3212529\ttotal: 3m 55s\tremaining: 4m 27s\n",
      "234:\tlearn: 0.3212434\ttotal: 3m 56s\tremaining: 4m 26s\n",
      "235:\tlearn: 0.3212396\ttotal: 3m 57s\tremaining: 4m 25s\n",
      "236:\tlearn: 0.3212371\ttotal: 3m 58s\tremaining: 4m 24s\n",
      "237:\tlearn: 0.3212316\ttotal: 3m 59s\tremaining: 4m 23s\n",
      "238:\tlearn: 0.3212295\ttotal: 4m\tremaining: 4m 22s\n",
      "239:\tlearn: 0.3212250\ttotal: 4m 1s\tremaining: 4m 21s\n",
      "240:\tlearn: 0.3212210\ttotal: 4m 2s\tremaining: 4m 20s\n",
      "241:\tlearn: 0.3212178\ttotal: 4m 3s\tremaining: 4m 20s\n",
      "242:\tlearn: 0.3212114\ttotal: 4m 5s\tremaining: 4m 19s\n",
      "243:\tlearn: 0.3212084\ttotal: 4m 6s\tremaining: 4m 18s\n",
      "244:\tlearn: 0.3212035\ttotal: 4m 7s\tremaining: 4m 17s\n",
      "245:\tlearn: 0.3212014\ttotal: 4m 8s\tremaining: 4m 16s\n",
      "246:\tlearn: 0.3211975\ttotal: 4m 9s\tremaining: 4m 15s\n",
      "247:\tlearn: 0.3211927\ttotal: 4m 10s\tremaining: 4m 14s\n",
      "248:\tlearn: 0.3211859\ttotal: 4m 11s\tremaining: 4m 13s\n",
      "249:\tlearn: 0.3211821\ttotal: 4m 12s\tremaining: 4m 12s\n",
      "250:\tlearn: 0.3211767\ttotal: 4m 13s\tremaining: 4m 11s\n",
      "251:\tlearn: 0.3211760\ttotal: 4m 14s\tremaining: 4m 10s\n",
      "252:\tlearn: 0.3211738\ttotal: 4m 15s\tremaining: 4m 9s\n",
      "253:\tlearn: 0.3211703\ttotal: 4m 16s\tremaining: 4m 8s\n",
      "254:\tlearn: 0.3211646\ttotal: 4m 17s\tremaining: 4m 7s\n",
      "255:\tlearn: 0.3211610\ttotal: 4m 18s\tremaining: 4m 6s\n",
      "256:\tlearn: 0.3211592\ttotal: 4m 19s\tremaining: 4m 5s\n",
      "257:\tlearn: 0.3211561\ttotal: 4m 20s\tremaining: 4m 4s\n",
      "258:\tlearn: 0.3211517\ttotal: 4m 21s\tremaining: 4m 3s\n",
      "259:\tlearn: 0.3211469\ttotal: 4m 23s\tremaining: 4m 2s\n",
      "260:\tlearn: 0.3211463\ttotal: 4m 24s\tremaining: 4m 1s\n",
      "261:\tlearn: 0.3211452\ttotal: 4m 25s\tremaining: 4m\n",
      "262:\tlearn: 0.3211385\ttotal: 4m 26s\tremaining: 3m 59s\n",
      "263:\tlearn: 0.3211373\ttotal: 4m 27s\tremaining: 3m 58s\n",
      "264:\tlearn: 0.3211344\ttotal: 4m 28s\tremaining: 3m 57s\n",
      "265:\tlearn: 0.3211332\ttotal: 4m 29s\tremaining: 3m 57s\n",
      "266:\tlearn: 0.3211307\ttotal: 4m 30s\tremaining: 3m 56s\n",
      "267:\tlearn: 0.3211260\ttotal: 4m 31s\tremaining: 3m 55s\n",
      "268:\tlearn: 0.3211185\ttotal: 4m 33s\tremaining: 3m 54s\n",
      "269:\tlearn: 0.3211148\ttotal: 4m 34s\tremaining: 3m 53s\n",
      "270:\tlearn: 0.3211109\ttotal: 4m 35s\tremaining: 3m 52s\n",
      "271:\tlearn: 0.3211099\ttotal: 4m 36s\tremaining: 3m 51s\n",
      "272:\tlearn: 0.3211047\ttotal: 4m 37s\tremaining: 3m 50s\n",
      "273:\tlearn: 0.3211030\ttotal: 4m 38s\tremaining: 3m 49s\n",
      "274:\tlearn: 0.3210975\ttotal: 4m 39s\tremaining: 3m 48s\n",
      "275:\tlearn: 0.3210959\ttotal: 4m 40s\tremaining: 3m 47s\n",
      "276:\tlearn: 0.3210917\ttotal: 4m 41s\tremaining: 3m 46s\n",
      "277:\tlearn: 0.3210898\ttotal: 4m 42s\tremaining: 3m 45s\n",
      "278:\tlearn: 0.3210876\ttotal: 4m 44s\tremaining: 3m 44s\n",
      "279:\tlearn: 0.3210827\ttotal: 4m 45s\tremaining: 3m 43s\n",
      "280:\tlearn: 0.3210715\ttotal: 4m 46s\tremaining: 3m 43s\n",
      "281:\tlearn: 0.3210655\ttotal: 4m 47s\tremaining: 3m 42s\n",
      "282:\tlearn: 0.3210638\ttotal: 4m 48s\tremaining: 3m 41s\n",
      "283:\tlearn: 0.3210586\ttotal: 4m 49s\tremaining: 3m 40s\n",
      "284:\tlearn: 0.3210556\ttotal: 4m 51s\tremaining: 3m 39s\n",
      "285:\tlearn: 0.3210530\ttotal: 4m 52s\tremaining: 3m 38s\n",
      "286:\tlearn: 0.3210512\ttotal: 4m 53s\tremaining: 3m 37s\n",
      "287:\tlearn: 0.3210493\ttotal: 4m 54s\tremaining: 3m 36s\n",
      "288:\tlearn: 0.3210471\ttotal: 4m 55s\tremaining: 3m 35s\n",
      "289:\tlearn: 0.3210448\ttotal: 4m 56s\tremaining: 3m 34s\n",
      "290:\tlearn: 0.3210418\ttotal: 4m 57s\tremaining: 3m 33s\n",
      "291:\tlearn: 0.3210414\ttotal: 4m 58s\tremaining: 3m 32s\n",
      "292:\tlearn: 0.3210401\ttotal: 4m 59s\tremaining: 3m 31s\n",
      "293:\tlearn: 0.3210364\ttotal: 5m\tremaining: 3m 30s\n",
      "294:\tlearn: 0.3210317\ttotal: 5m 2s\tremaining: 3m 29s\n",
      "295:\tlearn: 0.3210315\ttotal: 5m 2s\tremaining: 3m 28s\n",
      "296:\tlearn: 0.3210273\ttotal: 5m 4s\tremaining: 3m 27s\n",
      "297:\tlearn: 0.3210249\ttotal: 5m 5s\tremaining: 3m 27s\n",
      "298:\tlearn: 0.3210223\ttotal: 5m 6s\tremaining: 3m 26s\n",
      "299:\tlearn: 0.3210210\ttotal: 5m 7s\tremaining: 3m 25s\n",
      "300:\tlearn: 0.3210164\ttotal: 5m 8s\tremaining: 3m 24s\n",
      "301:\tlearn: 0.3210141\ttotal: 5m 9s\tremaining: 3m 23s\n",
      "302:\tlearn: 0.3210122\ttotal: 5m 10s\tremaining: 3m 22s\n",
      "303:\tlearn: 0.3210083\ttotal: 5m 11s\tremaining: 3m 20s\n",
      "304:\tlearn: 0.3210046\ttotal: 5m 12s\tremaining: 3m 19s\n",
      "305:\tlearn: 0.3210009\ttotal: 5m 13s\tremaining: 3m 18s\n",
      "306:\tlearn: 0.3209987\ttotal: 5m 14s\tremaining: 3m 17s\n",
      "307:\tlearn: 0.3209968\ttotal: 5m 16s\tremaining: 3m 17s\n",
      "308:\tlearn: 0.3209939\ttotal: 5m 17s\tremaining: 3m 16s\n"
     ]
    },
    {
     "name": "stdout",
     "output_type": "stream",
     "text": [
      "309:\tlearn: 0.3209921\ttotal: 5m 18s\tremaining: 3m 15s\n",
      "310:\tlearn: 0.3209867\ttotal: 5m 19s\tremaining: 3m 14s\n",
      "311:\tlearn: 0.3209798\ttotal: 5m 20s\tremaining: 3m 13s\n",
      "312:\tlearn: 0.3209779\ttotal: 5m 21s\tremaining: 3m 12s\n",
      "313:\tlearn: 0.3209743\ttotal: 5m 22s\tremaining: 3m 11s\n",
      "314:\tlearn: 0.3209703\ttotal: 5m 23s\tremaining: 3m 10s\n",
      "315:\tlearn: 0.3209680\ttotal: 5m 24s\tremaining: 3m 9s\n",
      "316:\tlearn: 0.3209621\ttotal: 5m 25s\tremaining: 3m 8s\n",
      "317:\tlearn: 0.3209615\ttotal: 5m 27s\tremaining: 3m 7s\n",
      "318:\tlearn: 0.3209559\ttotal: 5m 28s\tremaining: 3m 6s\n",
      "319:\tlearn: 0.3209503\ttotal: 5m 29s\tremaining: 3m 5s\n",
      "320:\tlearn: 0.3209449\ttotal: 5m 30s\tremaining: 3m 4s\n",
      "321:\tlearn: 0.3209437\ttotal: 5m 31s\tremaining: 3m 3s\n",
      "322:\tlearn: 0.3209398\ttotal: 5m 32s\tremaining: 3m 2s\n",
      "323:\tlearn: 0.3209368\ttotal: 5m 33s\tremaining: 3m 1s\n",
      "324:\tlearn: 0.3209319\ttotal: 5m 34s\tremaining: 3m\n",
      "325:\tlearn: 0.3209299\ttotal: 5m 35s\tremaining: 2m 59s\n",
      "326:\tlearn: 0.3209288\ttotal: 5m 36s\tremaining: 2m 58s\n",
      "327:\tlearn: 0.3209254\ttotal: 5m 37s\tremaining: 2m 56s\n",
      "328:\tlearn: 0.3209222\ttotal: 5m 38s\tremaining: 2m 56s\n",
      "329:\tlearn: 0.3209185\ttotal: 5m 39s\tremaining: 2m 55s\n",
      "330:\tlearn: 0.3209115\ttotal: 5m 41s\tremaining: 2m 54s\n",
      "331:\tlearn: 0.3209084\ttotal: 5m 42s\tremaining: 2m 53s\n",
      "332:\tlearn: 0.3209051\ttotal: 5m 43s\tremaining: 2m 52s\n",
      "333:\tlearn: 0.3209016\ttotal: 5m 44s\tremaining: 2m 51s\n",
      "334:\tlearn: 0.3208957\ttotal: 5m 45s\tremaining: 2m 50s\n",
      "335:\tlearn: 0.3208955\ttotal: 5m 46s\tremaining: 2m 49s\n",
      "336:\tlearn: 0.3208939\ttotal: 5m 47s\tremaining: 2m 48s\n",
      "337:\tlearn: 0.3208904\ttotal: 5m 49s\tremaining: 2m 47s\n",
      "338:\tlearn: 0.3208871\ttotal: 5m 50s\tremaining: 2m 46s\n",
      "339:\tlearn: 0.3208864\ttotal: 5m 51s\tremaining: 2m 45s\n",
      "340:\tlearn: 0.3208843\ttotal: 5m 52s\tremaining: 2m 44s\n",
      "341:\tlearn: 0.3208834\ttotal: 5m 53s\tremaining: 2m 43s\n",
      "342:\tlearn: 0.3208790\ttotal: 5m 54s\tremaining: 2m 42s\n",
      "343:\tlearn: 0.3208742\ttotal: 5m 55s\tremaining: 2m 41s\n",
      "344:\tlearn: 0.3208704\ttotal: 5m 56s\tremaining: 2m 40s\n",
      "345:\tlearn: 0.3208659\ttotal: 5m 57s\tremaining: 2m 39s\n",
      "346:\tlearn: 0.3208610\ttotal: 5m 58s\tremaining: 2m 38s\n",
      "347:\tlearn: 0.3208599\ttotal: 5m 59s\tremaining: 2m 37s\n",
      "348:\tlearn: 0.3208596\ttotal: 6m\tremaining: 2m 36s\n",
      "349:\tlearn: 0.3208561\ttotal: 6m 2s\tremaining: 2m 35s\n",
      "350:\tlearn: 0.3208533\ttotal: 6m 3s\tremaining: 2m 34s\n",
      "351:\tlearn: 0.3208443\ttotal: 6m 4s\tremaining: 2m 33s\n",
      "352:\tlearn: 0.3208433\ttotal: 6m 5s\tremaining: 2m 32s\n",
      "353:\tlearn: 0.3208402\ttotal: 6m 6s\tremaining: 2m 31s\n",
      "354:\tlearn: 0.3208376\ttotal: 6m 8s\tremaining: 2m 30s\n",
      "355:\tlearn: 0.3208348\ttotal: 6m 9s\tremaining: 2m 29s\n",
      "356:\tlearn: 0.3208318\ttotal: 6m 10s\tremaining: 2m 28s\n",
      "357:\tlearn: 0.3208267\ttotal: 6m 11s\tremaining: 2m 27s\n",
      "358:\tlearn: 0.3208245\ttotal: 6m 12s\tremaining: 2m 26s\n",
      "359:\tlearn: 0.3208179\ttotal: 6m 13s\tremaining: 2m 25s\n",
      "360:\tlearn: 0.3208154\ttotal: 6m 15s\tremaining: 2m 24s\n",
      "361:\tlearn: 0.3208067\ttotal: 6m 16s\tremaining: 2m 23s\n",
      "362:\tlearn: 0.3208025\ttotal: 6m 17s\tremaining: 2m 22s\n",
      "363:\tlearn: 0.3208007\ttotal: 6m 18s\tremaining: 2m 21s\n",
      "364:\tlearn: 0.3207979\ttotal: 6m 19s\tremaining: 2m 20s\n",
      "365:\tlearn: 0.3207956\ttotal: 6m 20s\tremaining: 2m 19s\n",
      "366:\tlearn: 0.3207904\ttotal: 6m 22s\tremaining: 2m 18s\n",
      "367:\tlearn: 0.3207894\ttotal: 6m 23s\tremaining: 2m 17s\n",
      "368:\tlearn: 0.3207864\ttotal: 6m 24s\tremaining: 2m 16s\n",
      "369:\tlearn: 0.3207849\ttotal: 6m 25s\tremaining: 2m 15s\n",
      "370:\tlearn: 0.3207796\ttotal: 6m 26s\tremaining: 2m 14s\n",
      "371:\tlearn: 0.3207764\ttotal: 6m 27s\tremaining: 2m 13s\n",
      "372:\tlearn: 0.3207723\ttotal: 6m 28s\tremaining: 2m 12s\n",
      "373:\tlearn: 0.3207710\ttotal: 6m 29s\tremaining: 2m 11s\n",
      "374:\tlearn: 0.3207657\ttotal: 6m 31s\tremaining: 2m 10s\n",
      "375:\tlearn: 0.3207623\ttotal: 6m 31s\tremaining: 2m 9s\n",
      "376:\tlearn: 0.3207575\ttotal: 6m 33s\tremaining: 2m 8s\n",
      "377:\tlearn: 0.3207540\ttotal: 6m 34s\tremaining: 2m 7s\n",
      "378:\tlearn: 0.3207494\ttotal: 6m 35s\tremaining: 2m 6s\n",
      "379:\tlearn: 0.3207462\ttotal: 6m 36s\tremaining: 2m 5s\n",
      "380:\tlearn: 0.3207416\ttotal: 6m 37s\tremaining: 2m 4s\n",
      "381:\tlearn: 0.3207378\ttotal: 6m 38s\tremaining: 2m 3s\n",
      "382:\tlearn: 0.3207351\ttotal: 6m 39s\tremaining: 2m 2s\n",
      "383:\tlearn: 0.3207290\ttotal: 6m 40s\tremaining: 2m 1s\n",
      "384:\tlearn: 0.3207256\ttotal: 6m 41s\tremaining: 2m\n",
      "385:\tlearn: 0.3207204\ttotal: 6m 43s\tremaining: 1m 59s\n",
      "386:\tlearn: 0.3207170\ttotal: 6m 44s\tremaining: 1m 57s\n",
      "387:\tlearn: 0.3207124\ttotal: 6m 45s\tremaining: 1m 56s\n",
      "388:\tlearn: 0.3207107\ttotal: 6m 46s\tremaining: 1m 55s\n",
      "389:\tlearn: 0.3207066\ttotal: 6m 47s\tremaining: 1m 54s\n",
      "390:\tlearn: 0.3207047\ttotal: 6m 48s\tremaining: 1m 53s\n",
      "391:\tlearn: 0.3207010\ttotal: 6m 49s\tremaining: 1m 52s\n",
      "392:\tlearn: 0.3206949\ttotal: 6m 50s\tremaining: 1m 51s\n",
      "393:\tlearn: 0.3206913\ttotal: 6m 51s\tremaining: 1m 50s\n",
      "394:\tlearn: 0.3206866\ttotal: 6m 52s\tremaining: 1m 49s\n",
      "395:\tlearn: 0.3206844\ttotal: 6m 53s\tremaining: 1m 48s\n",
      "396:\tlearn: 0.3206790\ttotal: 6m 54s\tremaining: 1m 47s\n",
      "397:\tlearn: 0.3206746\ttotal: 6m 55s\tremaining: 1m 46s\n",
      "398:\tlearn: 0.3206704\ttotal: 6m 56s\tremaining: 1m 45s\n",
      "399:\tlearn: 0.3206661\ttotal: 6m 58s\tremaining: 1m 44s\n",
      "400:\tlearn: 0.3206614\ttotal: 6m 59s\tremaining: 1m 43s\n",
      "401:\tlearn: 0.3206558\ttotal: 7m\tremaining: 1m 42s\n",
      "402:\tlearn: 0.3206512\ttotal: 7m 1s\tremaining: 1m 41s\n",
      "403:\tlearn: 0.3206463\ttotal: 7m 3s\tremaining: 1m 40s\n",
      "404:\tlearn: 0.3206403\ttotal: 7m 4s\tremaining: 1m 39s\n",
      "405:\tlearn: 0.3206339\ttotal: 7m 5s\tremaining: 1m 38s\n",
      "406:\tlearn: 0.3206331\ttotal: 7m 6s\tremaining: 1m 37s\n",
      "407:\tlearn: 0.3206297\ttotal: 7m 7s\tremaining: 1m 36s\n",
      "408:\tlearn: 0.3206290\ttotal: 7m 9s\tremaining: 1m 35s\n",
      "409:\tlearn: 0.3206263\ttotal: 7m 10s\tremaining: 1m 34s\n",
      "410:\tlearn: 0.3206199\ttotal: 7m 11s\tremaining: 1m 33s\n",
      "411:\tlearn: 0.3206186\ttotal: 7m 12s\tremaining: 1m 32s\n",
      "412:\tlearn: 0.3206151\ttotal: 7m 13s\tremaining: 1m 31s\n",
      "413:\tlearn: 0.3206141\ttotal: 7m 14s\tremaining: 1m 30s\n",
      "414:\tlearn: 0.3206113\ttotal: 7m 15s\tremaining: 1m 29s\n",
      "415:\tlearn: 0.3206076\ttotal: 7m 16s\tremaining: 1m 28s\n",
      "416:\tlearn: 0.3206015\ttotal: 7m 17s\tremaining: 1m 27s\n",
      "417:\tlearn: 0.3205964\ttotal: 7m 18s\tremaining: 1m 26s\n",
      "418:\tlearn: 0.3205949\ttotal: 7m 20s\tremaining: 1m 25s\n",
      "419:\tlearn: 0.3205901\ttotal: 7m 21s\tremaining: 1m 24s\n",
      "420:\tlearn: 0.3205821\ttotal: 7m 22s\tremaining: 1m 23s\n",
      "421:\tlearn: 0.3205779\ttotal: 7m 23s\tremaining: 1m 22s\n",
      "422:\tlearn: 0.3205774\ttotal: 7m 25s\tremaining: 1m 21s\n",
      "423:\tlearn: 0.3205755\ttotal: 7m 26s\tremaining: 1m 20s\n",
      "424:\tlearn: 0.3205702\ttotal: 7m 27s\tremaining: 1m 18s\n",
      "425:\tlearn: 0.3205668\ttotal: 7m 28s\tremaining: 1m 17s\n",
      "426:\tlearn: 0.3205643\ttotal: 7m 30s\tremaining: 1m 16s\n",
      "427:\tlearn: 0.3205609\ttotal: 7m 31s\tremaining: 1m 15s\n",
      "428:\tlearn: 0.3205586\ttotal: 7m 32s\tremaining: 1m 14s\n",
      "429:\tlearn: 0.3205565\ttotal: 7m 33s\tremaining: 1m 13s\n",
      "430:\tlearn: 0.3205533\ttotal: 7m 34s\tremaining: 1m 12s\n",
      "431:\tlearn: 0.3205516\ttotal: 7m 35s\tremaining: 1m 11s\n",
      "432:\tlearn: 0.3205476\ttotal: 7m 37s\tremaining: 1m 10s\n",
      "433:\tlearn: 0.3205437\ttotal: 7m 38s\tremaining: 1m 9s\n",
      "434:\tlearn: 0.3205392\ttotal: 7m 39s\tremaining: 1m 8s\n",
      "435:\tlearn: 0.3205366\ttotal: 7m 40s\tremaining: 1m 7s\n",
      "436:\tlearn: 0.3205331\ttotal: 7m 41s\tremaining: 1m 6s\n",
      "437:\tlearn: 0.3205282\ttotal: 7m 42s\tremaining: 1m 5s\n",
      "438:\tlearn: 0.3205235\ttotal: 7m 43s\tremaining: 1m 4s\n",
      "439:\tlearn: 0.3205194\ttotal: 7m 44s\tremaining: 1m 3s\n",
      "440:\tlearn: 0.3205167\ttotal: 7m 45s\tremaining: 1m 2s\n",
      "441:\tlearn: 0.3205134\ttotal: 7m 46s\tremaining: 1m 1s\n",
      "442:\tlearn: 0.3205104\ttotal: 7m 47s\tremaining: 1m\n",
      "443:\tlearn: 0.3205071\ttotal: 7m 48s\tremaining: 59.1s\n",
      "444:\tlearn: 0.3205031\ttotal: 7m 49s\tremaining: 58.1s\n",
      "445:\tlearn: 0.3204990\ttotal: 7m 50s\tremaining: 57s\n",
      "446:\tlearn: 0.3204972\ttotal: 7m 52s\tremaining: 56s\n",
      "447:\tlearn: 0.3204931\ttotal: 7m 53s\tremaining: 54.9s\n",
      "448:\tlearn: 0.3204911\ttotal: 7m 54s\tremaining: 53.9s\n",
      "449:\tlearn: 0.3204875\ttotal: 7m 55s\tremaining: 52.8s\n",
      "450:\tlearn: 0.3204857\ttotal: 7m 56s\tremaining: 51.8s\n",
      "451:\tlearn: 0.3204833\ttotal: 7m 57s\tremaining: 50.7s\n",
      "452:\tlearn: 0.3204820\ttotal: 7m 58s\tremaining: 49.7s\n",
      "453:\tlearn: 0.3204765\ttotal: 7m 59s\tremaining: 48.6s\n",
      "454:\tlearn: 0.3204729\ttotal: 8m\tremaining: 47.6s\n",
      "455:\tlearn: 0.3204696\ttotal: 8m 2s\tremaining: 46.5s\n",
      "456:\tlearn: 0.3204662\ttotal: 8m 3s\tremaining: 45.5s\n",
      "457:\tlearn: 0.3204639\ttotal: 8m 4s\tremaining: 44.4s\n",
      "458:\tlearn: 0.3204626\ttotal: 8m 5s\tremaining: 43.4s\n",
      "459:\tlearn: 0.3204551\ttotal: 8m 6s\tremaining: 42.3s\n",
      "460:\tlearn: 0.3204508\ttotal: 8m 7s\tremaining: 41.3s\n",
      "461:\tlearn: 0.3204468\ttotal: 8m 8s\tremaining: 40.2s\n",
      "462:\tlearn: 0.3204415\ttotal: 8m 9s\tremaining: 39.2s\n"
     ]
    },
    {
     "name": "stdout",
     "output_type": "stream",
     "text": [
      "463:\tlearn: 0.3204382\ttotal: 8m 11s\tremaining: 38.1s\n",
      "464:\tlearn: 0.3204321\ttotal: 8m 12s\tremaining: 37.1s\n",
      "465:\tlearn: 0.3204272\ttotal: 8m 13s\tremaining: 36s\n",
      "466:\tlearn: 0.3204250\ttotal: 8m 14s\tremaining: 35s\n",
      "467:\tlearn: 0.3204231\ttotal: 8m 15s\tremaining: 33.9s\n",
      "468:\tlearn: 0.3204180\ttotal: 8m 16s\tremaining: 32.8s\n",
      "469:\tlearn: 0.3204121\ttotal: 8m 17s\tremaining: 31.8s\n",
      "470:\tlearn: 0.3204102\ttotal: 8m 18s\tremaining: 30.7s\n",
      "471:\tlearn: 0.3204095\ttotal: 8m 19s\tremaining: 29.7s\n",
      "472:\tlearn: 0.3204068\ttotal: 8m 20s\tremaining: 28.6s\n",
      "473:\tlearn: 0.3204046\ttotal: 8m 21s\tremaining: 27.5s\n",
      "474:\tlearn: 0.3204011\ttotal: 8m 22s\tremaining: 26.4s\n",
      "475:\tlearn: 0.3203941\ttotal: 8m 23s\tremaining: 25.4s\n",
      "476:\tlearn: 0.3203890\ttotal: 8m 24s\tremaining: 24.3s\n",
      "477:\tlearn: 0.3203869\ttotal: 8m 25s\tremaining: 23.3s\n",
      "478:\tlearn: 0.3203846\ttotal: 8m 27s\tremaining: 22.2s\n",
      "479:\tlearn: 0.3203805\ttotal: 8m 28s\tremaining: 21.2s\n",
      "480:\tlearn: 0.3203756\ttotal: 8m 29s\tremaining: 20.1s\n",
      "481:\tlearn: 0.3203725\ttotal: 8m 30s\tremaining: 19.1s\n",
      "482:\tlearn: 0.3203714\ttotal: 8m 31s\tremaining: 18s\n",
      "483:\tlearn: 0.3203713\ttotal: 8m 32s\tremaining: 16.9s\n",
      "484:\tlearn: 0.3203702\ttotal: 8m 33s\tremaining: 15.9s\n",
      "485:\tlearn: 0.3203666\ttotal: 8m 34s\tremaining: 14.8s\n",
      "486:\tlearn: 0.3203643\ttotal: 8m 36s\tremaining: 13.8s\n",
      "487:\tlearn: 0.3203587\ttotal: 8m 37s\tremaining: 12.7s\n",
      "488:\tlearn: 0.3203553\ttotal: 8m 38s\tremaining: 11.7s\n",
      "489:\tlearn: 0.3203545\ttotal: 8m 39s\tremaining: 10.6s\n",
      "490:\tlearn: 0.3203535\ttotal: 8m 40s\tremaining: 9.54s\n",
      "491:\tlearn: 0.3203501\ttotal: 8m 41s\tremaining: 8.48s\n",
      "492:\tlearn: 0.3203460\ttotal: 8m 42s\tremaining: 7.42s\n",
      "493:\tlearn: 0.3203450\ttotal: 8m 43s\tremaining: 6.36s\n",
      "494:\tlearn: 0.3203429\ttotal: 8m 44s\tremaining: 5.3s\n",
      "495:\tlearn: 0.3203375\ttotal: 8m 45s\tremaining: 4.24s\n",
      "496:\tlearn: 0.3203345\ttotal: 8m 46s\tremaining: 3.18s\n",
      "497:\tlearn: 0.3203330\ttotal: 8m 47s\tremaining: 2.12s\n",
      "498:\tlearn: 0.3203256\ttotal: 8m 48s\tremaining: 1.06s\n",
      "499:\tlearn: 0.3203199\ttotal: 8m 50s\tremaining: 0us\n"
     ]
    },
    {
     "data": {
      "text/plain": [
       "<catboost.core.CatBoostClassifier at 0x1a3208bba30>"
      ]
     },
     "execution_count": 101,
     "metadata": {},
     "output_type": "execute_result"
    }
   ],
   "source": [
    "catboost = CatBoostClassifier(iterations=500, cat_features=cat_features)\n",
    "\n",
    "catboost.fit(X_train,\n",
    "             y_train,\n",
    "             )"
   ]
  },
  {
   "cell_type": "code",
   "execution_count": 211,
   "id": "d4f95d0a",
   "metadata": {
    "scrolled": true
   },
   "outputs": [
    {
     "data": {
      "text/plain": [
       "array([0, 0, 0, ..., 0, 0, 0], dtype=int64)"
      ]
     },
     "execution_count": 211,
     "metadata": {},
     "output_type": "execute_result"
    }
   ],
   "source": [
    "# проверим качество работы модели\n",
    "pred = catboost.predict(X_test)\n",
    "pred"
   ]
  },
  {
   "cell_type": "code",
   "execution_count": 217,
   "id": "6bd36559",
   "metadata": {},
   "outputs": [
    {
     "data": {
      "text/plain": [
       "array([[0.84663701, 0.15336299],\n",
       "       [0.85293493, 0.14706507],\n",
       "       [0.8313753 , 0.1686247 ],\n",
       "       ...,\n",
       "       [0.85222051, 0.14777949],\n",
       "       [0.90736392, 0.09263608],\n",
       "       [0.8584284 , 0.1415716 ]])"
      ]
     },
     "execution_count": 217,
     "metadata": {},
     "output_type": "execute_result"
    }
   ],
   "source": [
    "pred_proba = catboost.predict_proba(X_test)\n",
    "pred_proba"
   ]
  },
  {
   "cell_type": "code",
   "execution_count": 218,
   "id": "9912a987",
   "metadata": {},
   "outputs": [
    {
     "data": {
      "text/plain": [
       "array([0.15336299, 0.14706507, 0.1686247 , ..., 0.14777949, 0.09263608,\n",
       "       0.1415716 ])"
      ]
     },
     "execution_count": 218,
     "metadata": {},
     "output_type": "execute_result"
    }
   ],
   "source": [
    "pred_proba = pred_proba[:, 1]\n",
    "pred_proba"
   ]
  },
  {
   "cell_type": "code",
   "execution_count": 219,
   "id": "27bb3501",
   "metadata": {},
   "outputs": [],
   "source": [
    "for count, i in enumerate(pred_proba):\n",
    "    if i>=0.3:\n",
    "        pred_proba[count] = 1\n",
    "    else:\n",
    "        pred_proba[count] = 0"
   ]
  },
  {
   "cell_type": "code",
   "execution_count": 220,
   "id": "86437aaf",
   "metadata": {},
   "outputs": [
    {
     "data": {
      "text/plain": [
       "array([0., 0., 0., ..., 0., 0., 0.])"
      ]
     },
     "execution_count": 220,
     "metadata": {},
     "output_type": "execute_result"
    }
   ],
   "source": [
    "pred_proba"
   ]
  },
  {
   "cell_type": "code",
   "execution_count": 221,
   "id": "5e10d9ed",
   "metadata": {
    "scrolled": true
   },
   "outputs": [
    {
     "data": {
      "text/plain": [
       "(0.00011391900358844861, 0.0008526360665056132)"
      ]
     },
     "execution_count": 221,
     "metadata": {},
     "output_type": "execute_result"
    }
   ],
   "source": [
    "from sklearn.metrics import f1_score, accuracy_score, recall_score, precision_score\n",
    "\n",
    "f1_score(y_test, pred), f1_score(y_test, pred_proba)"
   ]
  },
  {
   "cell_type": "code",
   "execution_count": 222,
   "id": "a0799071",
   "metadata": {},
   "outputs": [
    {
     "data": {
      "text/plain": [
       "(0.894674, 0.24, 5.6973023273480004e-05)"
      ]
     },
     "execution_count": 222,
     "metadata": {},
     "output_type": "execute_result"
    }
   ],
   "source": [
    "accuracy_score(y_test, pred), precision_score(y_test, pred), recall_score(y_test, pred)"
   ]
  },
  {
   "cell_type": "code",
   "execution_count": 223,
   "id": "11999855",
   "metadata": {},
   "outputs": [
    {
     "data": {
      "text/plain": [
       "(0.894535, 0.1859504132231405, 0.0004272976745511001)"
      ]
     },
     "execution_count": 223,
     "metadata": {},
     "output_type": "execute_result"
    }
   ],
   "source": [
    "accuracy_score(y_test, pred_proba), precision_score(y_test, pred_proba), recall_score(y_test, pred_proba)"
   ]
  },
  {
   "cell_type": "markdown",
   "id": "251e2948",
   "metadata": {},
   "source": [
    "Сохраним модель в форматах .cbm и .pkl"
   ]
  },
  {
   "cell_type": "code",
   "execution_count": 224,
   "id": "f0b489ca",
   "metadata": {},
   "outputs": [],
   "source": [
    "catboost.save_model('catboost_model_v1', format=\"cbm\")"
   ]
  },
  {
   "cell_type": "code",
   "execution_count": 225,
   "id": "e6077199",
   "metadata": {},
   "outputs": [
    {
     "data": {
      "text/plain": [
       "array([0, 0, 0, ..., 0, 0, 0], dtype=int64)"
      ]
     },
     "execution_count": 225,
     "metadata": {},
     "output_type": "execute_result"
    }
   ],
   "source": [
    "model = CatBoostClassifier()  # здесь не указываем параметры, которые были при обучении, в дампе модели все есть\n",
    "model.load_model(\"catboost_model_v1\")\n",
    "model.predict(X_train)"
   ]
  },
  {
   "cell_type": "code",
   "execution_count": 226,
   "id": "3ba9ef72",
   "metadata": {},
   "outputs": [],
   "source": [
    "import pickle"
   ]
  },
  {
   "cell_type": "code",
   "execution_count": 227,
   "id": "0697564f",
   "metadata": {},
   "outputs": [],
   "source": [
    "filename = 'sklearn_model_v1.pkl'\n",
    "pickle.dump(catboost, open(filename, 'wb'))\n",
    "loaded_model = pickle.load(open(filename, 'rb'))"
   ]
  },
  {
   "cell_type": "code",
   "execution_count": 229,
   "id": "aeea460e",
   "metadata": {},
   "outputs": [
    {
     "data": {
      "text/plain": [
       "array([0, 0, 0, ..., 0, 0, 0], dtype=int64)"
      ]
     },
     "execution_count": 229,
     "metadata": {},
     "output_type": "execute_result"
    }
   ],
   "source": [
    "loaded_model.predict(X_test)"
   ]
  }
 ],
 "metadata": {
  "kernelspec": {
   "display_name": "Python 3 (ipykernel)",
   "language": "python",
   "name": "python3"
  },
  "language_info": {
   "codemirror_mode": {
    "name": "ipython",
    "version": 3
   },
   "file_extension": ".py",
   "mimetype": "text/x-python",
   "name": "python",
   "nbconvert_exporter": "python",
   "pygments_lexer": "ipython3",
   "version": "3.9.13"
  }
 },
 "nbformat": 4,
 "nbformat_minor": 5
}
